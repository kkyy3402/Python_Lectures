{
 "cells": [
  {
   "cell_type": "markdown",
   "metadata": {},
   "source": [
    "**1. 사용자로부터 이름을 입력 받고, 아래와 같은 환영 문구를 만드는 프로그램을 코딩해보세요.**\n",
    "\n",
    "\"ㅁㅁㅁ님 어서오세요!\""
   ]
  },
  {
   "cell_type": "markdown",
   "metadata": {},
   "source": [
    "**2. 다음과 같이 성적이 나왔습니다. 성적의 평균 값을 구하는 프로그램을 만들어보세요.**  \n",
    "83, 92, 95 \n",
    "\n",
    "\"평균은 90.0 입니다.\""
   ]
  }
 ],
 "metadata": {
  "kernelspec": {
   "display_name": "Python 3",
   "language": "python",
   "name": "python3"
  },
  "language_info": {
   "codemirror_mode": {
    "name": "ipython",
    "version": 3
   },
   "file_extension": ".py",
   "mimetype": "text/x-python",
   "name": "python",
   "nbconvert_exporter": "python",
   "pygments_lexer": "ipython3",
   "version": "3.7.9"
  }
 },
 "nbformat": 4,
 "nbformat_minor": 4
}
