{
 "cells": [
  {
   "cell_type": "markdown",
   "metadata": {},
   "source": [
    "**다음과 같은 결과가 나오는 증여세 계산기를 만들어 주세요**"
   ]
  },
  {
   "cell_type": "code",
   "execution_count": 6,
   "metadata": {},
   "outputs": [
    {
     "name": "stdout",
     "output_type": "stream",
     "text": [
      "증여할 금액을 입력해주세요. 단위 : 억\n",
      "증여 세율은 50% 입니다.\n"
     ]
    }
   ],
   "source": [
    "print(\"증여할 금액을 입력해주세요. 단위 : 억\")\n",
    "value = 35\n",
    "\n",
    "if value <= 1 :\n",
    "    print(\"증여 세율은 10% 입니다.\")\n",
    "elif value > 1  and value <= 5:\n",
    "    print(\"증여 세율은 20% 입니다.\")\n",
    "elif value > 5  and value <= 10:\n",
    "    print(\"증여 세율은 30% 입니다.\")\n",
    "elif value > 10  and value <= 30:\n",
    "    print(\"증여 세율은 40% 입니다.\")\n",
    "else:\n",
    "    print(\"증여 세율은 50% 입니다.\")\n",
    "\n"
   ]
  }
 ],
 "metadata": {
  "kernelspec": {
   "display_name": "Python 3",
   "language": "python",
   "name": "python3"
  },
  "language_info": {
   "codemirror_mode": {
    "name": "ipython",
    "version": 3
   },
   "file_extension": ".py",
   "mimetype": "text/x-python",
   "name": "python",
   "nbconvert_exporter": "python",
   "pygments_lexer": "ipython3",
   "version": "3.7.9"
  }
 },
 "nbformat": 4,
 "nbformat_minor": 4
}
