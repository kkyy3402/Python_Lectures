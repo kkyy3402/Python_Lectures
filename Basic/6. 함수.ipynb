{
 "cells": [
  {
   "cell_type": "markdown",
   "metadata": {},
   "source": [
    "# 함수"
   ]
  },
  {
   "cell_type": "markdown",
   "metadata": {},
   "source": [
    "앞서 배웠던 점수를 통해 성적을 구하는 프로그램을 만들어 보았습니다.  \n",
    "함수를 이해하기 위해 그 프로그램을 다시한번 적어보도록 하겠습니다."
   ]
  },
  {
   "cell_type": "code",
   "execution_count": 2,
   "metadata": {},
   "outputs": [
    {
     "name": "stdout",
     "output_type": "stream",
     "text": [
      "B\n"
     ]
    }
   ],
   "source": [
    "score = 90\n",
    "grade = \"\"\n",
    "\n",
    "if score >= 91 and score <= 100:\n",
    "    grade = \"A\"\n",
    "elif score >= 81 and score <= 90:\n",
    "    grade = \"B\"\n",
    "elif score >= 71and score <= 80:\n",
    "    grade = \"C\"\n",
    "else:\n",
    "    grade = \"D\"\n",
    "    \n",
    "print(grade)    "
   ]
  },
  {
   "cell_type": "markdown",
   "metadata": {},
   "source": [
    "앞서 배웠듯, 점수 구간에 따라, 성적을 매겨주고 있습니다.  \n",
    "만약 100명의 학생의 성적을 구한다면, 어떻게 해야할까요?  \n",
    "\n",
    "이 긴 코드를 계속해서 적어야할까요 ?  \n",
    "이 코드의 흐름을 정리해보면 다음과 같습니다. \n",
    "\n",
    "- score를 받는다\n",
    "- score구간을 통해 grade를 구한다.\n",
    "- 100명의 데이터에 대해 **반복한다**\n",
    "\n",
    "결국, 동일한 코드를 반복하는 작업을 우리는 해야합니다.  \n",
    "이 때, 사용하는 방법이 바로 **'함수'** 입니다. \n",
    "\n",
    "우리가 학창시절 배웠던 함수의 모양은 아래와 같죠?  \n",
    "$y=f(x)$\n",
    "\n",
    "f는 function의 약자이고 '함수'를 의미합니다.  \n",
    "그리고, 기호의 의미는 **'x라는 값을 함수에 넣으면, y를 받는다'** 라는 의미입니다.  \n",
    "\n",
    "이런식으로 써볼수도 있겠죠?  \n",
    "$grade=f(score)$ \n",
    "\n",
    "score를 함수에 넣으면, grade를 받는 함수를 만들고, 이를 반복문을 통해 반복하면  \n",
    "100명, 1000명의 데이터도 한번에 처리할 수 있겠네요 !\n",
    "\n",
    "그렇다면, 파이썬에서 이 함수를 어떻게 만드는 것일까요?  \n",
    "한번 배워보도록 하겠습니다 ! \n"
   ]
  },
  {
   "cell_type": "code",
   "execution_count": null,
   "metadata": {},
   "outputs": [],
   "source": []
  }
 ],
 "metadata": {
  "kernelspec": {
   "display_name": "Python 3",
   "language": "python",
   "name": "python3"
  },
  "language_info": {
   "codemirror_mode": {
    "name": "ipython",
    "version": 3
   },
   "file_extension": ".py",
   "mimetype": "text/x-python",
   "name": "python",
   "nbconvert_exporter": "python",
   "pygments_lexer": "ipython3",
   "version": "3.7.6"
  }
 },
 "nbformat": 4,
 "nbformat_minor": 4
}
