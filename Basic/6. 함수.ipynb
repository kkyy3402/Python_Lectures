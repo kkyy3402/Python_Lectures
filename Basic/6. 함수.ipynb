{
 "cells": [
  {
   "cell_type": "markdown",
   "metadata": {},
   "source": [
    "# 함수"
   ]
  },
  {
   "cell_type": "markdown",
   "metadata": {},
   "source": [
    "앞서 배웠던 점수를 통해 성적을 구하는 프로그램을 만들어 보았습니다.  \n",
    "함수를 이해하기 위해 그 프로그램을 다시한번 적어보도록 하겠습니다."
   ]
  },
  {
   "cell_type": "code",
   "execution_count": 2,
   "metadata": {},
   "outputs": [
    {
     "name": "stdout",
     "output_type": "stream",
     "text": [
      "B\n"
     ]
    }
   ],
   "source": [
    "score = 90\n",
    "grade = \"\"\n",
    "\n",
    "if score >= 91 and score <= 100:\n",
    "    grade = \"A\"\n",
    "elif score >= 81 and score <= 90:\n",
    "    grade = \"B\"\n",
    "elif score >= 71and score <= 80:\n",
    "    grade = \"C\"\n",
    "else:\n",
    "    grade = \"D\"\n",
    "    \n",
    "print(grade)    "
   ]
  },
  {
   "cell_type": "markdown",
   "metadata": {},
   "source": [
    "앞서 배웠듯, 점수 구간에 따라, 성적을 매겨주고 있습니다.  \n",
    "만약 100명의 학생의 성적을 구한다면, 어떻게 해야할까요?  \n",
    "\n",
    "이 긴 코드를 계속해서 적어야할까요 ?  \n",
    "이 코드의 흐름을 정리해보면 다음과 같습니다. \n",
    "\n",
    "- score를 받는다\n",
    "- score구간을 통해 grade를 구한다.\n",
    "- 100명의 데이터에 대해 **반복한다**\n",
    "\n",
    "결국, 동일한 코드를 반복하는 작업을 우리는 해야합니다.  \n",
    "이 때, 사용하는 방법이 바로 **'함수'** 입니다. \n",
    "\n",
    "우리가 학창시절 배웠던 함수의 모양은 아래와 같죠?  \n",
    "$y=f(x)$\n",
    "\n",
    "f는 function의 약자이고 '함수'를 의미합니다.  \n",
    "그리고, 기호의 의미는 **'x라는 입력값을 함수에 넣으면, 함수의 처리를 거친 결과값 y를 받는다'** 라는 의미입니다.  \n",
    "\n",
    "이런식으로 써볼수도 있겠죠?  \n",
    "$grade=f(score)$ **입력값 score을 함수에 넣으면 함수의 처리를 거쳐, 결과값을 반환받습니다.**\n",
    "\n",
    "score를 함수에 넣으면, grade를 받는 함수를 만들고, 이를 반복문을 통해 반복하면  \n",
    "100명, 1000명의 데이터도 한번에 처리할 수 있겠네요 !\n",
    "\n",
    "그렇다면, 파이썬에서 이 함수를 어떻게 만드는 것일까요?  \n",
    "한번 배워보도록 하겠습니다 ! \n"
   ]
  },
  {
   "cell_type": "markdown",
   "metadata": {},
   "source": [
    "우선 간단한 형태의 함수를 만들어 테스트 해본 후,  \n",
    "차근차큰 알아가보도록 하겠습니다."
   ]
  },
  {
   "cell_type": "code",
   "execution_count": 2,
   "metadata": {},
   "outputs": [],
   "source": [
    "def func(a):\n",
    "    print(a)"
   ]
  },
  {
   "cell_type": "markdown",
   "metadata": {},
   "source": [
    "파이썬에서는 위와 같은 형태로 함수를 정의합니다."
   ]
  },
  {
   "cell_type": "markdown",
   "metadata": {},
   "source": [
    "<img src=\"imgs/6-1.png\"></img>"
   ]
  },
  {
   "cell_type": "markdown",
   "metadata": {},
   "source": [
    "먼저, **def** 는 define(정의) 의 약자이며, '함수를 시작한다'라는 의미입니다."
   ]
  },
  {
   "cell_type": "markdown",
   "metadata": {},
   "source": [
    "<img src=\"imgs/6-2.png\"></img>"
   ]
  },
  {
   "cell_type": "markdown",
   "metadata": {},
   "source": [
    "'func'라고 쓰여져 있는 부분은 함수의 이름을 의미합니다.  \n",
    "따라서, 사용자가 원하는 이름으로 마음대로 변경이 가능합니다. "
   ]
  },
  {
   "cell_type": "markdown",
   "metadata": {},
   "source": [
    "<img src=\"imgs/6-3.png\"></img>"
   ]
  },
  {
   "cell_type": "markdown",
   "metadata": {},
   "source": [
    "위의 a라고 쓰여져 있는 빨간 부분은 함수의 입력 데이터입니다.  \n",
    "$y=f(a)$ 의 형태로 현재 함수가 구성되어 있음을 뜻합니다. "
   ]
  },
  {
   "cell_type": "markdown",
   "metadata": {},
   "source": [
    "<img src=\"imgs/6-4.png\"></img>"
   ]
  },
  {
   "cell_type": "markdown",
   "metadata": {},
   "source": [
    "마지막으로, print(a) 부분은 함수 안에서 처리되는 내용이며,  \n",
    "입력값으로 전달받은 a를 함수 안에서 사용할 수 있습니다."
   ]
  },
  {
   "cell_type": "markdown",
   "metadata": {},
   "source": [
    "### 점수 구간에 따른 성적 구하는 프로그램 만들기\n",
    "\n",
    "위에서 언급했던 성적을 매기는 프로그램을 만들어 보겠습니다.  \n",
    "이 프로그램은, 학생의 성적을 받아 성적 구간에 따라 학점을 매기는 프로그램입니다.\n",
    "\n",
    "그래서, 함수 이름은 getGrade 라고 하고, 파라미터는 score라고 만들어보도록 하겠습니다. "
   ]
  },
  {
   "cell_type": "code",
   "execution_count": 4,
   "metadata": {},
   "outputs": [],
   "source": [
    "def getGrade(score):\n",
    "    print(\"Your Score is {}\".format(score))"
   ]
  },
  {
   "cell_type": "markdown",
   "metadata": {},
   "source": [
    "먼저, 간단하게 getGrade라는 함수를 호출하면 입력값을 프린트 하도록 함수를 정의해보았습니다.  \n",
    "잘 동작하는지 확인해볼까요?"
   ]
  },
  {
   "cell_type": "code",
   "execution_count": 5,
   "metadata": {},
   "outputs": [
    {
     "name": "stdout",
     "output_type": "stream",
     "text": [
      "Your Score is 30\n"
     ]
    }
   ],
   "source": [
    "getGrade(30)"
   ]
  },
  {
   "cell_type": "markdown",
   "metadata": {},
   "source": [
    "우리가 의도했던 대로, 입력값이 30을 받아 정상적으로 출력하고 있네요!  \n",
    "\n",
    "자, 그럼 조건문을 활용하여 점수 구간에 따른 성적을 얻을 수 있도록 코드를 구성해보겠습니다. "
   ]
  },
  {
   "cell_type": "code",
   "execution_count": 7,
   "metadata": {},
   "outputs": [],
   "source": [
    "def getGrade(score):\n",
    "    if score >= 70:\n",
    "        return \"You got a good score\"\n",
    "    else:\n",
    "        return \"you got a bad score\""
   ]
  },
  {
   "cell_type": "markdown",
   "metadata": {},
   "source": [
    "좀 가혹하지만, 조건문을 복습해보기 위해  \n",
    "먼저 간단한 조건문을 통해 함수를 구성해보았습니다.  \n",
    "\n",
    "조건문의 내용은 70점 이상인 사람은 좋은 성적을 얻었다는 결과값을 받도록,  \n",
    "70점 미만인 학생은 좋지 않은 성적을 얻었다는 결과값을 받도록 함수를 구성했습니다. "
   ]
  },
  {
   "cell_type": "markdown",
   "metadata": {},
   "source": [
    "우리가 처음 보는 키워드가 있습니다.\n",
    "\n",
    "네~ 바로 **return** 입니다.\n",
    "\n",
    "return은 '반환하다'라는 뜻이죠?  \n",
    "함수에서는 어떠한 처리를 한 이후, 사용자에게 결과값을 전달합니다.  \n",
    "물론, 원하지 않을 때는 return 하지 않아도 됩니다. "
   ]
  },
  {
   "cell_type": "markdown",
   "metadata": {},
   "source": [
    "앞에서 배웠던 조건문을 기억하면서,  \n",
    "함수를 완성해보도록 하겠습니다. "
   ]
  },
  {
   "cell_type": "code",
   "execution_count": 8,
   "metadata": {},
   "outputs": [],
   "source": [
    "def getGrade(score):\n",
    "    if score >= 91 and score <= 100:\n",
    "        return \"A\"\n",
    "    elif score >= 81 and score <= 90:\n",
    "        return \"B\"\n",
    "    elif score >=71 and score <=80:\n",
    "        return \"C\"\n",
    "    else:\n",
    "        return \"D\""
   ]
  },
  {
   "cell_type": "markdown",
   "metadata": {},
   "source": [
    "자, 코드를 완성했는데 어떠신가요?  \n",
    "내용이 이해 되시나요?  "
   ]
  },
  {
   "cell_type": "markdown",
   "metadata": {},
   "source": [
    "### 여러개의 파라미터를 입력으로 받기\n",
    "\n",
    "지금까지의 예제에서는 파라미터가 score 하나였습니다.  \n",
    "파라미터가 2개 이상이 필요한 경우들이 있습니다. \n",
    "\n",
    "예를 들어, 나이에 따른 지하철 혹은 버스 교통카드 요금을 구하는 등의 경우입니다. \n",
    "\n",
    "예제 코드를 작성해보며, 여러개의 파라미터를 받는 함수 만드는 법을 배워보겠습니다!"
   ]
  },
  {
   "cell_type": "code",
   "execution_count": 1,
   "metadata": {},
   "outputs": [],
   "source": [
    "# age : 나이 \n",
    "# method : 버스일 경우 \"bus\", 지하철일 경우 \"subway\"\n",
    "def getTransportFee(age,method):\n",
    "    if method == \"bus\":\n",
    "        if age > 19 :\n",
    "            return 1400\n",
    "        else:\n",
    "            return 750\n",
    "    else:\n",
    "        if age > 19 :\n",
    "            return 1250\n",
    "        else:\n",
    "            return 720"
   ]
  },
  {
   "cell_type": "markdown",
   "metadata": {},
   "source": [
    "자 위와같은 함수를 만들어 보았습니다. \n",
    "\n",
    "성인의 경우 버스요금은 1400원, 지하철 요금은 1250 원이라고 가정합니다. \n",
    "성인이 아닌 경우는 각각 750원, 720원으로 가정하겠습니다. \n",
    "\n",
    "이렇게 구현한 이후, 함수가 잘 동작하는지 확인하도록 하겠습니다."
   ]
  },
  {
   "cell_type": "code",
   "execution_count": 2,
   "metadata": {},
   "outputs": [
    {
     "name": "stdout",
     "output_type": "stream",
     "text": [
      "720\n"
     ]
    }
   ],
   "source": [
    "print(getTransportFee(15,\"subway\"))"
   ]
  },
  {
   "cell_type": "markdown",
   "metadata": {},
   "source": [
    "15살인 사람이 지하철을 이용하는 경우, 우리가 의도했던대로 720원이 나왔습니다!"
   ]
  },
  {
   "cell_type": "code",
   "execution_count": 3,
   "metadata": {},
   "outputs": [
    {
     "name": "stdout",
     "output_type": "stream",
     "text": [
      "1400\n"
     ]
    }
   ],
   "source": [
    "print(getTransportFee(20,\"bus\"))"
   ]
  },
  {
   "cell_type": "markdown",
   "metadata": {},
   "source": [
    "20살인 성인이 버스를 이용할 경우 1400원이 나왔습니다!  \n",
    "**잘 동작하네요!**  \n",
    "\n",
    "이렇게, 여러 매개변수를 활용하여 함수를 구성할 수 있습니다!^^"
   ]
  },
  {
   "cell_type": "markdown",
   "metadata": {},
   "source": [
    "### 여러가지 값을 리턴하는 함수\n",
    "\n",
    "자, 위에서는 여러가지 매개변수를 받는 함수를 만들어 보았습니다.  \n",
    "지금까지는, 리턴하는 값이 하나였는데, 여러가지 값을 리턴하게도 만들 수 있을까요 ?\n",
    "\n",
    "**\"네! 가능합니다\"** \n",
    "\n",
    "코드를 통해 바로 배워보도록 하겠습니다."
   ]
  },
  {
   "cell_type": "code",
   "execution_count": 5,
   "metadata": {},
   "outputs": [],
   "source": [
    "def getCookIngredients(cookName):\n",
    "    if cookName == \"찹쌀밥\":\n",
    "        return \"찹쌀\", \"밥\"\n",
    "    \n",
    "    elif cookName == \"양고기\":\n",
    "        return \"양\", \"고기\"    "
   ]
  },
  {
   "cell_type": "markdown",
   "metadata": {},
   "source": [
    "말도 안되는 예제를 가져와봤습니다.  \n",
    "제가 요리를 잘 모릅니다. 너그러운 양해 부탁드립니다. ㅋㅋ  \n",
    "\n",
    "요리 재료를 구하는 함수입니다. \n",
    "cookName이 \"찹쌀밥\"일 경우 \"찹쌀\"과 \"밥\"  \n",
    "cookNaee이 \"양고기\"일 경우 \"양\"과 \"고기\"를 리턴하는 함수입니다. \n",
    "\n",
    "물론, list를 리턴해도 되지만, 2가지 이상의 값을 리턴하는 함수를 만들어보았습니다.   \n",
    "우리의 의도대로 잘 동작하는지 확인해볼까요? "
   ]
  },
  {
   "cell_type": "code",
   "execution_count": 6,
   "metadata": {},
   "outputs": [
    {
     "name": "stdout",
     "output_type": "stream",
     "text": [
      "('찹쌀', '밥')\n"
     ]
    }
   ],
   "source": [
    "print(getCookIngredients(\"찹쌀밥\"))"
   ]
  },
  {
   "cell_type": "markdown",
   "metadata": {},
   "source": [
    "예상대로, 찹쌀밥의 재료인 '찹쌀'과 '밥'이 나왔습니다~ \n",
    "\n",
    "아래와 같이 결과값을 변수에 저장할 수도 있습니다"
   ]
  },
  {
   "cell_type": "code",
   "execution_count": 8,
   "metadata": {},
   "outputs": [
    {
     "name": "stdout",
     "output_type": "stream",
     "text": [
      "양\n",
      "고기\n"
     ]
    }
   ],
   "source": [
    "item1, item2 = getCookIngredients(\"양고기\")\n",
    "print(item1)\n",
    "print(item2)"
   ]
  },
  {
   "cell_type": "markdown",
   "metadata": {},
   "source": [
    "해당 값을 사용하지 않을때는 아래와 같이 사용가능합니다. "
   ]
  },
  {
   "cell_type": "code",
   "execution_count": 9,
   "metadata": {},
   "outputs": [
    {
     "name": "stdout",
     "output_type": "stream",
     "text": [
      "밥\n"
     ]
    }
   ],
   "source": [
    "_ , item = getCookIngredients(\"찹쌀밥\")\n",
    "print(item)"
   ]
  },
  {
   "cell_type": "markdown",
   "metadata": {},
   "source": [
    "여기서, 하나 짚고 가고 싶은 부분이 있습니다.  \n",
    "print(getCookIngredients(\"찹쌀밥\")) 의 결과값입니다. \n",
    "\n",
    "('찹쌀', '밥') 입니다. \n",
    "\n",
    "이런식으로 결과값이 나오는 것은 처음보는데요!  \n",
    "이와같이 소괄호로 묶인 컨테이너를 '튜플'이라고 합니다. \n",
    "\n",
    "'읽을수만 있고, 변경은 불가능한 리스트' 라고 생각하시면 되겠습니다!  \n",
    "중요한 부분은 아니니, 이렇게 간단히 알고 넘어가도록 하겠습니다~\n",
    "\n",
    "타입이 정말 그렇게 나오는지 확인하고 넘어가야겠죠? "
   ]
  },
  {
   "cell_type": "code",
   "execution_count": 11,
   "metadata": {},
   "outputs": [
    {
     "name": "stdout",
     "output_type": "stream",
     "text": [
      "<class 'tuple'>\n"
     ]
    }
   ],
   "source": [
    "print(type(getCookIngredients(\"찹쌀밥\")))"
   ]
  },
  {
   "cell_type": "markdown",
   "metadata": {},
   "source": [
    "# 정리\n",
    "\n",
    "지금까지 함수에 대해 배워보았습니다.  \n",
    "반복문에 이어 반복적인 작업을 할 때, 함수는 매우 자주 사용되는 기능입니다.  \n",
    "\n",
    "반복적인 작업을 함수로 묶어, 매우 긴 코드를 짧게 줄일 수 있습니다.  \n",
    "함수는 프로그래밍에 있어 매우 중요하며, 이 또한 파이썬 뿐만 아니라,  \n",
    "다른 언어들에도 있는 기능입니다.^^\n",
    "\n",
    "공부하시느라 고생많으셨습니다!  \n",
    "다음시간에는 '파일 다루기'에 대해 배워보도록 하겠습니다~"
   ]
  },
  {
   "cell_type": "code",
   "execution_count": null,
   "metadata": {},
   "outputs": [],
   "source": []
  }
 ],
 "metadata": {
  "kernelspec": {
   "display_name": "Python 3",
   "language": "python",
   "name": "python3"
  },
  "language_info": {
   "codemirror_mode": {
    "name": "ipython",
    "version": 3
   },
   "file_extension": ".py",
   "mimetype": "text/x-python",
   "name": "python",
   "nbconvert_exporter": "python",
   "pygments_lexer": "ipython3",
   "version": "3.7.6"
  }
 },
 "nbformat": 4,
 "nbformat_minor": 4
}
