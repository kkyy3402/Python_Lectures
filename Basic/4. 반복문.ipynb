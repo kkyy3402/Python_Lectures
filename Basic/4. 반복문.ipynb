{
 "cells": [
  {
   "cell_type": "markdown",
   "metadata": {},
   "source": [
    "# 반복문"
   ]
  },
  {
   "cell_type": "markdown",
   "metadata": {},
   "source": [
    "컴퓨터는 반복작업을 매우 잘 수행합니다.  \n",
    "그것도 **매우 빠르게** 말이죠! \n",
    "\n",
    "오늘은 컴퓨터를 통해 반복작업을 할 수 있게 해주는 '반복문'에 대해 배우도록 하겠습니다. "
   ]
  },
  {
   "cell_type": "markdown",
   "metadata": {},
   "source": [
    "반복문에 사용하는 명령어는 크게 2가지가 있습니다. \n",
    "\n",
    "바로.. \n",
    "\n",
    "### for , while ### \n",
    "\n",
    "\n",
    "입니다. 자, 그럼 바로 시작해보도록 하겠습니다. ㅎㅎ "
   ]
  },
  {
   "cell_type": "markdown",
   "metadata": {},
   "source": [
    "지금까지 배운 파이썬 지식을 바탕으로 1부터 10까지 더하는 것을 코딩해봅시다. "
   ]
  },
  {
   "cell_type": "code",
   "execution_count": 1,
   "metadata": {},
   "outputs": [],
   "source": [
    "sum = 1+2+3+4+5+6+7+8+9+10 "
   ]
  },
  {
   "cell_type": "code",
   "execution_count": 2,
   "metadata": {},
   "outputs": [
    {
     "name": "stdout",
     "output_type": "stream",
     "text": [
      "55\n"
     ]
    }
   ],
   "source": [
    "print(sum)"
   ]
  },
  {
   "cell_type": "markdown",
   "metadata": {},
   "source": [
    "1부터 1000까지 더하기 가능하신가요?? ㅎㅎ  \n",
    "사람은 하기 어렵죠. 굉장히 오래 걸립니다. \n",
    "\n",
    "자, 여기서부터 이제 프로그래밍을 하는 진면모가 드러납니다!!!"
   ]
  },
  {
   "cell_type": "markdown",
   "metadata": {},
   "source": [
    "## for문 "
   ]
  },
  {
   "cell_type": "markdown",
   "metadata": {},
   "source": [
    "for문을 이용해서, 먼저 1부터 10까지 더하는 코드를 작성해보겠습니다.  \n",
    "일단, 코드를 먼저 쓴 후에 설명드리도록 하겠습니다!"
   ]
  },
  {
   "cell_type": "code",
   "execution_count": 3,
   "metadata": {},
   "outputs": [
    {
     "name": "stdout",
     "output_type": "stream",
     "text": [
      "1\n",
      "2\n",
      "3\n",
      "4\n",
      "5\n",
      "6\n",
      "7\n",
      "8\n",
      "9\n"
     ]
    }
   ],
   "source": [
    "for num in range(1,10):\n",
    "    print(num)"
   ]
  },
  {
   "cell_type": "markdown",
   "metadata": {},
   "source": [
    "단 2줄을 썼는데, 1부터 9까지 출력이 됐네요!  \n",
    "range(1,10) 이렇게 작성을 하면, 1에서 9까지 조회하는 것을 눈치챌 수 있으셨겠죠!  \n",
    "그래서, 1~10까지 조회하려면 range(1,11) 로 작성해야 하는 것을 알 수 있습니다. "
   ]
  },
  {
   "cell_type": "code",
   "execution_count": 4,
   "metadata": {},
   "outputs": [
    {
     "name": "stdout",
     "output_type": "stream",
     "text": [
      "1\n",
      "2\n",
      "3\n",
      "4\n",
      "5\n",
      "6\n",
      "7\n",
      "8\n",
      "9\n",
      "10\n"
     ]
    }
   ],
   "source": [
    "for num in range(1,11):\n",
    "    print(num)"
   ]
  },
  {
   "cell_type": "markdown",
   "metadata": {},
   "source": [
    "*깔끔하쥬?*\n",
    "자, 그러면 본론으로 들어와서, for문을 통해서 1부터 10까지 더하는 것을 코딩해보겠습니다! "
   ]
  },
  {
   "cell_type": "code",
   "execution_count": 6,
   "metadata": {},
   "outputs": [],
   "source": [
    "sum = 0 # 1부터 10까지 더해갈 sum이라는 변수를 하나 선언합니다. \n",
    "\n",
    "for num in range(1,11):\n",
    "    sum = sum + num \n",
    "    \n",
    "# 맨 처음에는 sum에 0 , num에는 1이 들어가서, sum은 1이 됩니다. \n",
    "# sum이 1인 상태에서, num은 2가 됩니다. 이 둘이 더해져서 sum은 3이 됩니다. \n",
    "# 결과적으로 1 ~ 10 까지 더한 값이 sum에 들어가게 됩니다. "
   ]
  },
  {
   "cell_type": "code",
   "execution_count": 7,
   "metadata": {},
   "outputs": [
    {
     "name": "stdout",
     "output_type": "stream",
     "text": [
      "55\n"
     ]
    }
   ],
   "source": [
    "print(sum)"
   ]
  },
  {
   "cell_type": "markdown",
   "metadata": {},
   "source": [
    "1부터 1000까지 더하는 것도 이제는 너무 쉽죠? 11을 1001로 변경해주기만 하면 됩니다 ! "
   ]
  },
  {
   "cell_type": "code",
   "execution_count": 8,
   "metadata": {},
   "outputs": [
    {
     "name": "stdout",
     "output_type": "stream",
     "text": [
      "500500\n"
     ]
    }
   ],
   "source": [
    "sum = 0 \n",
    "\n",
    "for num in range(1,1001):\n",
    "    sum = sum + num \n",
    "    \n",
    "print(sum)"
   ]
  },
  {
   "cell_type": "markdown",
   "metadata": {},
   "source": [
    "range(1,11)은 1 ~ 10까지를 의미하고, for문을 사용해서 1부터 10까지 조회하도록 코드를 작성했습니다. \n",
    "\n",
    "**또한, for 문을 사용하면 리스트에도 접근이 가능합니다** "
   ]
  },
  {
   "cell_type": "markdown",
   "metadata": {},
   "source": [
    "긴 리스트를 한번 선언해보겠습니다. "
   ]
  },
  {
   "cell_type": "code",
   "execution_count": 9,
   "metadata": {},
   "outputs": [],
   "source": [
    "my_list = [1,2,3,4,5,6,7,8,9,10]"
   ]
  },
  {
   "cell_type": "markdown",
   "metadata": {},
   "source": [
    "이런 리스트를 조회하고 싶을때 지금까지 우리는 어떻게 했나요? "
   ]
  },
  {
   "cell_type": "code",
   "execution_count": 10,
   "metadata": {},
   "outputs": [
    {
     "name": "stdout",
     "output_type": "stream",
     "text": [
      "1\n",
      "2\n",
      "3\n"
     ]
    }
   ],
   "source": [
    "print(my_list[0])\n",
    "print(my_list[1])\n",
    "print(my_list[2])"
   ]
  },
  {
   "cell_type": "markdown",
   "metadata": {},
   "source": [
    "이렇게 코드를 작성했는데, 리스트의 크기가 1000개 , 10000개면 어느 세월에 값을 조회할까요? \n",
    "\n",
    "for문을 통해 아주 간단히 리스트에 접근할 수 있습니다. "
   ]
  },
  {
   "cell_type": "code",
   "execution_count": 11,
   "metadata": {},
   "outputs": [
    {
     "name": "stdout",
     "output_type": "stream",
     "text": [
      "1\n",
      "2\n",
      "3\n",
      "4\n",
      "5\n",
      "6\n",
      "7\n",
      "8\n",
      "9\n",
      "10\n"
     ]
    }
   ],
   "source": [
    "for element in my_list:\n",
    "    print(element)"
   ]
  },
  {
   "cell_type": "markdown",
   "metadata": {},
   "source": [
    "와우! 단 2줄의 코드로, 원소가 10개인 리스트를 모두 조회했습니다!!  \n",
    "\n",
    "'몇번 index에는 어떤 값이 있다!'라고 출력하고 싶을때는 어떻게 하면 될까요?\n",
    "\n",
    "enumerate기능을 사용하시면 됩니다!\n",
    "\n",
    "바로 코드를 작성해보겠습니다."
   ]
  },
  {
   "cell_type": "code",
   "execution_count": 17,
   "metadata": {},
   "outputs": [
    {
     "name": "stdout",
     "output_type": "stream",
     "text": [
      "0번 인덱스에는 1가 있습니다!\n",
      "1번 인덱스에는 2가 있습니다!\n",
      "2번 인덱스에는 3가 있습니다!\n",
      "3번 인덱스에는 4가 있습니다!\n",
      "4번 인덱스에는 5가 있습니다!\n",
      "5번 인덱스에는 6가 있습니다!\n",
      "6번 인덱스에는 7가 있습니다!\n",
      "7번 인덱스에는 8가 있습니다!\n",
      "8번 인덱스에는 9가 있습니다!\n",
      "9번 인덱스에는 10가 있습니다!\n"
     ]
    }
   ],
   "source": [
    "for index,element in enumerate(my_list):\n",
    "    print(\"{}번 인덱스에는 {}가 있습니다!\".format(index,element))"
   ]
  },
  {
   "cell_type": "markdown",
   "metadata": {},
   "source": [
    "이처럼, for문을 사용하면 반복적인 작업을 간편하게 할 수 있습니다!!"
   ]
  },
  {
   "cell_type": "markdown",
   "metadata": {},
   "source": [
    "# while문"
   ]
  },
  {
   "cell_type": "markdown",
   "metadata": {},
   "source": [
    "while문도 for문과 마찬가지로, 반복되는 작업을 수행할때 사용되는 명령어입니다.  \n",
    "\n",
    "for문과 다른점은, for문의 경우 for문이 종료되는 시점이 정해져 있지만,  \n",
    "while문은 종료되는 시점에 우리가 수동으로 종료를 시켜야하는 점이 다릅니다.  \n",
    "\n",
    "그러면 for문이 더 좋은거 아니야? 라고 생각할 수 있지만, 아닙니다.  \n",
    "예를 들어, 어떤 긴 텍스트 파일을 읽는다고 했을 때,  \n",
    "문장의 끝이 어디인지 알 수 없는 이런 경우 while문이 많이 사용됩니다. \n",
    "\n",
    "반면에, for문의 예제에서 사용했던 크기를 알 수 있는 리스트 등을 다룰 때에는 \n",
    "for문을 사용하는 것이 편리합니다! \n",
    "\n",
    "while문의 사용방법은 다음과 같습니다. "
   ]
  },
  {
   "cell_type": "markdown",
   "metadata": {},
   "source": [
    "**while(계속 명령을 수행할 것인지 여부):**"
   ]
  },
  {
   "cell_type": "code",
   "execution_count": 3,
   "metadata": {},
   "outputs": [
    {
     "name": "stdout",
     "output_type": "stream",
     "text": [
      "while 루프를 도는 중입니다. \n"
     ]
    }
   ],
   "source": [
    "count = 0 \n",
    "\n",
    "while(count < 5):\n",
    "    print(\"while 루프를 도는 중입니다. \")\n",
    "    count = count + 1"
   ]
  },
  {
   "cell_type": "markdown",
   "metadata": {},
   "source": [
    "위 코드의 의미는 다음과 같습니다. \n",
    "\n",
    "count가 5보다 작을 경우, 'while 루프를 도는 중입니다.' 를 출력한다.  \n",
    "아니면, while문을 나간다.  \n",
    "count에 1을 더한다.  \n",
    "위 두 과정을 반복한다. "
   ]
  },
  {
   "cell_type": "markdown",
   "metadata": {},
   "source": [
    "이런식으로 for문과 비슷하게 명령을 반복할 수 있습니다."
   ]
  },
  {
   "cell_type": "markdown",
   "metadata": {},
   "source": [
    "### break 명령어"
   ]
  },
  {
   "cell_type": "markdown",
   "metadata": {},
   "source": [
    "while문 옆의 괄호에 조건을 넣어서 while문을 종료시키는 방법 외에,  \n",
    "break 명령어를 이용해 while문을 종료시킬수도 있습니다. \n",
    "\n",
    "break 명령어를 이용해 한번만 명령을 실행하는 while문을 만들어보도록 하겠습니다!"
   ]
  },
  {
   "cell_type": "code",
   "execution_count": 4,
   "metadata": {},
   "outputs": [
    {
     "name": "stdout",
     "output_type": "stream",
     "text": [
      "이 while문은 한번만 실행됩니다!\n"
     ]
    }
   ],
   "source": [
    "while(True):\n",
    "    print(\"이 while문은 한번만 실행됩니다!\")\n",
    "    break"
   ]
  },
  {
   "cell_type": "markdown",
   "metadata": {},
   "source": [
    "이 다음강의에서 배울 분기문을 통해, while문을 좀더 효과적으로 사용할 수 있는 방법을 배울 예정입니다.  \n",
    "미리 보여드리면 다음과 같습니다. "
   ]
  },
  {
   "cell_type": "code",
   "execution_count": 6,
   "metadata": {},
   "outputs": [
    {
     "name": "stdout",
     "output_type": "stream",
     "text": [
      "count는 0이며, 짝수입니다.\n",
      "count는 1이며, 홀수입니다.\n",
      "count는 2이며, 짝수입니다.\n",
      "count는 3이며, 홀수입니다.\n",
      "count는 4이며, 짝수입니다.\n"
     ]
    }
   ],
   "source": [
    "count = 0 \n",
    "\n",
    "while(count < 5):\n",
    "    if count % 2 == 0:\n",
    "        print(\"count는 {}이며, 짝수입니다.\".format(count))\n",
    "    else:\n",
    "        print(\"count는 {}이며, 홀수입니다.\".format(count))\n",
    "    \n",
    "    count = count + 1"
   ]
  },
  {
   "cell_type": "markdown",
   "metadata": {},
   "source": [
    "위 코드의 의미는, count의 값이 짝수인지? 홀수인지를 판단해서 문장을 출력하고,  \n",
    "count가 5가 되기 전까지 반복합니다. \n",
    "\n",
    "이와 같이 if문을 조합하여, while문을 멋지게 사용할 수 있습니다 ^^"
   ]
  },
  {
   "cell_type": "markdown",
   "metadata": {},
   "source": [
    "오늘은 반복문에 대해 배워봤습니다.  \n",
    "for, while을 통해 반복되는 작업을 간편하게 수행할 수 있게끔 도와주는 명령어가 반복문입니다. \n",
    "\n",
    "코드를 타이핑해보고, 어떤 순서로 반복문이 실행되는지 고민해보고,  \n",
    "여러 반복 작업을 구현해보세요!  \n",
    "\n",
    "다음 시간에는 분기문에 대해 배워보도록 하겠습니다!"
   ]
  }
 ],
 "metadata": {
  "kernelspec": {
   "display_name": "Python 3",
   "language": "python",
   "name": "python3"
  },
  "language_info": {
   "codemirror_mode": {
    "name": "ipython",
    "version": 3
   },
   "file_extension": ".py",
   "mimetype": "text/x-python",
   "name": "python",
   "nbconvert_exporter": "python",
   "pygments_lexer": "ipython3",
   "version": "3.7.6"
  }
 },
 "nbformat": 4,
 "nbformat_minor": 4
}
