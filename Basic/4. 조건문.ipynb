{
 "cells": [
  {
   "cell_type": "markdown",
   "metadata": {},
   "source": [
    "# 조건문(분기문)"
   ]
  },
  {
   "cell_type": "markdown",
   "metadata": {},
   "source": [
    "**프로그래밍에서, 제가 생각 했을 때 가장 중요한 파트** 중 하나라고 생각되는 파트입니다.  \n",
    "조건문이란, 상황에 따라 다르게 처리하는 명령문을 의미합니다.  \n",
    "예를들어, 어떤 학생들의 리스트가 쭉 있고,  \n",
    "성적에 따라 A+, B+ 등으로 분류하는 작업이 있다고 생각해봅시다.  \n",
    "이럴 때는 어떤 방법을 통해 처리하는게 좋을까요?  \n",
    "바로 '조건문(혹은 분기문)'을 사용하여 처리하면 됩니다.  \n",
    "\n",
    "차근차근 배워보도록 하죠! "
   ]
  },
  {
   "cell_type": "markdown",
   "metadata": {},
   "source": [
    "### if문 "
   ]
  },
  {
   "cell_type": "markdown",
   "metadata": {},
   "source": [
    "위에 고민 했던 '만약에~ 그 학생의 성적이 90점이 넘으면 A를 매기고,  \n",
    "그렇지 않으면 B를 주자 !' 라는 요청은 코드로 다음과 같이 나타낼 수 있습니다. "
   ]
  },
  {
   "cell_type": "code",
   "execution_count": 3,
   "metadata": {},
   "outputs": [
    {
     "name": "stdout",
     "output_type": "stream",
     "text": [
      "A\n"
     ]
    }
   ],
   "source": [
    "score = 95\n",
    "grade = \"\"\n",
    "\n",
    "#만약에~ score(점수)가 90점이 넘으면!\n",
    "if score > 90 :\n",
    "    # grade(성적) = \"A\"\n",
    "    grade = \"A\"\n",
    "\n",
    "    # 그렇지 않으면! grade = \"B\"\n",
    "else:\n",
    "    grade = \"B\"\n",
    "    \n",
    "print(grade)"
   ]
  },
  {
   "cell_type": "markdown",
   "metadata": {},
   "source": [
    "어떠신가요? 이해하기 그렇게 어렵지는 않으시죠 ?  \n",
    "\n",
    "### 여기서 잠깐!  \n",
    "\n",
    "전에 비교 연산자라는 것을 잠시 배우고 넘어 갔었는데, 기억 나시는지 모르겠습니다.  \n",
    "\n",
    "'==' 기호 기억나시나요 ?  \n",
    "\n",
    "두 값이 동일한지를 비교할 때 사용하는 비교연산자입니다. \n",
    "\n",
    "위에 '>' 기호도 마찬가지로 두 값을 비교하는 비교 연산자입니다!\n",
    "\n",
    "조건문을 잘 이해하기 위해서 비교 연산자에 대해 좀더 공부할 필요가 있습니다!"
   ]
  },
  {
   "cell_type": "markdown",
   "metadata": {},
   "source": [
    "### 비교 연산자 \n",
    "다음과 같은 비교 연산자들이 있습니다."
   ]
  },
  {
   "cell_type": "markdown",
   "metadata": {},
   "source": [
    "- '==' 혹은 'is' : 두 값이 동일한가?\n",
    "- '!=' 혹은 'is not' : 두 값이 다른가? \n",
    "- 'a>b' : a가 b를 초과하는가? \n",
    "- 'a>=b' : a가 b 이상의 값인가? \n",
    "- 'a<b' : b가 a를 초과하는가?\n",
    "- 'a<=b' : b가 a 이상의 값인가? "
   ]
  },
  {
   "cell_type": "markdown",
   "metadata": {},
   "source": [
    "헥헥... 너무 많죠?  \n",
    "외우실 필요는 없지만, 기호의 의미를 기억하시면서 숙지하시기를 권장드립니다."
   ]
  },
  {
   "cell_type": "markdown",
   "metadata": {},
   "source": [
    "이 부분은 매우 중요한 부분이므로, \n",
    "비교 연산자 각각의 예시를 들어 설명드리도록 하겠습니다! "
   ]
  },
  {
   "cell_type": "markdown",
   "metadata": {},
   "source": [
    "#### '==' 배워보기"
   ]
  },
  {
   "cell_type": "code",
   "execution_count": 4,
   "metadata": {},
   "outputs": [
    {
     "name": "stdout",
     "output_type": "stream",
     "text": [
      "True\n"
     ]
    }
   ],
   "source": [
    "print(2==2)"
   ]
  },
  {
   "cell_type": "markdown",
   "metadata": {},
   "source": [
    "위의 결과 값이 True가 나왔습니다.  \n",
    "비교 연산자는 앞서 배웠듯이, 결과가 참일 경우 True, 거짓일 경우 False를 리턴합니다.  \n",
    "여기에 오늘 배운 if문을 조합해보겠습니다!"
   ]
  },
  {
   "cell_type": "code",
   "execution_count": 7,
   "metadata": {},
   "outputs": [
    {
     "name": "stdout",
     "output_type": "stream",
     "text": [
      "2와 2는 같습니다.\n"
     ]
    }
   ],
   "source": [
    "if 2==2:\n",
    "    print(\"2와 2는 같습니다.\")\n",
    "else:\n",
    "    print(\"2와 2는 다릅니다.\")"
   ]
  },
  {
   "cell_type": "markdown",
   "metadata": {},
   "source": [
    "자 어떤가요?  \n",
    "if문은, if 키워드 옆에 있는 조건이 True(참)일 경우 그 아래에 있는 라인의 코드를 실행시킵니다!  \n",
    "else 이하의 코드는 if 키워드 옆에 있는 조건이 False(거짓)일 경우 실행됩니다."
   ]
  },
  {
   "cell_type": "markdown",
   "metadata": {},
   "source": [
    "#### '!=' 배워보기"
   ]
  },
  {
   "cell_type": "markdown",
   "metadata": {},
   "source": [
    "위에서 배운 == 와 정 반대의 결과가 나오는 비교 연산자입니다.  \n",
    "동일한 예제에 비교 연산자만 바꿔서 실행해보겠습니다!"
   ]
  },
  {
   "cell_type": "code",
   "execution_count": 8,
   "metadata": {},
   "outputs": [
    {
     "name": "stdout",
     "output_type": "stream",
     "text": [
      "2와 2는 같습니다.\n"
     ]
    }
   ],
   "source": [
    "# 2와 2가 다르다면...\n",
    "if 2!=2:\n",
    "    print(\"2와 2는 다릅니다.\")\n",
    "else:\n",
    "    print(\"2와 2는 같습니다.\")"
   ]
  },
  {
   "cell_type": "markdown",
   "metadata": {},
   "source": [
    "위에 말씀드렸듯, 반대의 결과가 나오는 것을 확인하실 수 있습니다. "
   ]
  },
  {
   "cell_type": "markdown",
   "metadata": {},
   "source": [
    "#### '>' , '<' , \"<=\" , \">=\" 등 비교연산자 배워보기"
   ]
  },
  {
   "cell_type": "markdown",
   "metadata": {},
   "source": [
    "'초과'와 '이상'의 차이 기억 나시나요 ? \n",
    "'초과'는 비교 대상을 포함하지 않을 때, '이상'은 비교 대상을 포함할 때 사용됩니다.  \n",
    "\n",
    "예를 들어,  \n",
    "**2는 1을 초과하고, 이상이기도 합니다.  \n",
    "2는 2이상이지만, 2를 초과하지 않습니다.**\n",
    "\n",
    "이 문장을 코드로 만들어보도록 하겠습니다."
   ]
  },
  {
   "cell_type": "code",
   "execution_count": 14,
   "metadata": {},
   "outputs": [
    {
     "name": "stdout",
     "output_type": "stream",
     "text": [
      "False\n"
     ]
    }
   ],
   "source": [
    "print(2>2) # 2는 2를 초과한다 : False"
   ]
  },
  {
   "cell_type": "code",
   "execution_count": 15,
   "metadata": {},
   "outputs": [
    {
     "name": "stdout",
     "output_type": "stream",
     "text": [
      "True\n"
     ]
    }
   ],
   "source": [
    "print(2>=2) # 2는 2 이상이다 : True"
   ]
  },
  {
   "cell_type": "code",
   "execution_count": 16,
   "metadata": {},
   "outputs": [
    {
     "name": "stdout",
     "output_type": "stream",
     "text": [
      "False\n"
     ]
    }
   ],
   "source": [
    "print(2<2) # 2는 2 미만이다 : False"
   ]
  },
  {
   "cell_type": "code",
   "execution_count": 17,
   "metadata": {},
   "outputs": [
    {
     "name": "stdout",
     "output_type": "stream",
     "text": [
      "True\n"
     ]
    }
   ],
   "source": [
    "print(2<=2) # 2는 2 이하이다 : True"
   ]
  },
  {
   "cell_type": "markdown",
   "metadata": {},
   "source": [
    "어떠신가요?  \n",
    "예시를 보니까 확실히 이해되시죠? "
   ]
  },
  {
   "cell_type": "markdown",
   "metadata": {},
   "source": [
    "### 비교연산자를 통한 if문의 활용\n",
    "자, 다시 이제, if문으로 돌아와보도록 하겠습니다. \n",
    "\n",
    "위에서 if문이 어떻게 동작하는지를 살펴보면 다음과 같이 동작하는 것을 알 수 있습니다.\n",
    "\n",
    "if [조건]:  \n",
    "&nbsp;&nbsp;&nbsp;&nbsp;**조건이 참일 경우 동작**  \n",
    "else:  \n",
    "&nbsp;&nbsp;&nbsp;&nbsp;**조건이 거짓일 경우 동작**\n",
    "\n",
    "그렇다면, 조건이 여러개면 어떻게 하면 될까요 ?\n",
    "elif를 이용하면 됩니다!\n",
    "\n",
    "elif는 'else if'라는 말의 약자로 우리나라 말로 해석하면, '그렇지 않고 만약에...' 라는 뜻으로 해석되겠죠?  \n",
    "elif를 통해 여러가지 조건의 상황을 처리할 수 있습니다.  \n",
    "코드 예시를 보시죠 !"
   ]
  },
  {
   "cell_type": "code",
   "execution_count": 22,
   "metadata": {},
   "outputs": [
    {
     "name": "stdout",
     "output_type": "stream",
     "text": [
      "His name is david\n"
     ]
    }
   ],
   "source": [
    "name = \"david\"\n",
    "\n",
    "if name == \"gil\":\n",
    "    print(\"His name is gil\")\n",
    "elif name == \"david\":\n",
    "    print(\"His name is david\")\n",
    "elif name == \"trump\":\n",
    "    print(\"His name is Trump\")\n",
    "else:\n",
    "    print(\"i don't know his name\")"
   ]
  },
  {
   "cell_type": "markdown",
   "metadata": {},
   "source": [
    "name에 \"gil\"을 넣으면 \"His name is gil\"이,  \n",
    "name에 \"david\"를 넣으면 \"His name is david\"가,  \n",
    "name에 \"trump\"을 넣으면 \"His name is trump\"가,  \n",
    "그 외의 값들을 넣으면 \"I don't know his name\"이 출력되는 코드입니다. \n",
    "\n",
    "이처럼, if, elif ,else를 사용하여 다양한 조건을 처리하는 프로그램을 만들 수 있습니다 ! "
   ]
  },
  {
   "cell_type": "markdown",
   "metadata": {},
   "source": [
    "하나를 더 배우고 넘어가야 합니다.  \n",
    "헥헥... 조건문에서 배울게 참 많죠?  \n",
    "\n",
    "그럼에도, 지금 배우고 있는 조건문과 그리고 이 다음에 배울 반복문은 컴퓨터 프로그래밍에 있어  \n",
    "매우 중요한 파트입니다.  \n",
    "\n",
    "파이썬 뿐만 아니라, C, Java 등 다른 언어에도 동일하게 조건문과 반복문이 있는데요,  \n",
    "우리가 컴퓨터를 이용하는 중요한 이유 중 하나가 '조건처리'와 '반복처리'이기 때문입니다."
   ]
  },
  {
   "cell_type": "markdown",
   "metadata": {},
   "source": [
    "### 논리연산자 "
   ]
  },
  {
   "cell_type": "markdown",
   "metadata": {},
   "source": [
    "위에서 봤던 성적에 따라 A, B, C, D 등으로 분류하는 프로그램을 만든다고 가정해봅시다. \n",
    "\n",
    "A : 91 ~ 100  \n",
    "B : 81 ~ 90  \n",
    "C : 71 ~ 80  \n",
    "D : ~ 70 \n",
    "\n",
    "A로 분류되는 조건은 2가지 입니다. \n",
    "- 91 이상\n",
    "- 100 이하  \n",
    "\n",
    "B,C 로 분류되는 조건도 마찬가지입니다.  \n",
    "\n",
    "우리는 아직 두가지 조건을 한번에 비교하는 방법을 배우지 않았는데요,  \n",
    "이렇게 여러가지 조건을 다룰 때 사용되는 연산자가 '비교연산자'입니다.  \n",
    "\n",
    "자 배우러 가보시죠 ! "
   ]
  },
  {
   "cell_type": "markdown",
   "metadata": {},
   "source": [
    "### 논리 연산자의 종류\n",
    "논리 연산자에는 다음과 같은 논리 연산자들이 있습니다.\n",
    "- 'and' : 두가지 조건이 모두 참일 때 True를 나타냅니다. \n",
    "- '||' 혹은 'or' : 두가지 조건 중 하나만이라도 참일 때 True를 나타냅니다. \n",
    "- 'not' : bool 변수를 반대로 변경합니다.  \n",
    "\n",
    "코드 예시를 들면서 하나하나 설명드리도록 하겠습니다."
   ]
  },
  {
   "cell_type": "code",
   "execution_count": 23,
   "metadata": {},
   "outputs": [
    {
     "name": "stdout",
     "output_type": "stream",
     "text": [
      "True\n"
     ]
    }
   ],
   "source": [
    "print(2==2)"
   ]
  },
  {
   "cell_type": "markdown",
   "metadata": {},
   "source": [
    "위에서 배웠듯, 2와 2는 같은 값이기 때문에 위 명령어는 True(참)을 리턴합니다.  \n",
    "여기에 하나의 조건을 추가해보겠습니다. "
   ]
  },
  {
   "cell_type": "markdown",
   "metadata": {},
   "source": [
    "### 'and' 연산자"
   ]
  },
  {
   "cell_type": "code",
   "execution_count": 25,
   "metadata": {},
   "outputs": [
    {
     "name": "stdout",
     "output_type": "stream",
     "text": [
      "True\n"
     ]
    }
   ],
   "source": [
    "print(2==2 and 3==3)"
   ]
  },
  {
   "cell_type": "markdown",
   "metadata": {},
   "source": [
    "'3==3' 도 True, '2==2도 True이므로, 최종적인 결과값이 True가 나오는 것을 확인할 수 있습니다.  \n",
    "반대로, 하나의 조건은 참인데, 하나의 조건은 거짓인 코드를 작성해볼까요? "
   ]
  },
  {
   "cell_type": "code",
   "execution_count": 26,
   "metadata": {},
   "outputs": [
    {
     "name": "stdout",
     "output_type": "stream",
     "text": [
      "False\n"
     ]
    }
   ],
   "source": [
    "print(2==2 and 3==4)"
   ]
  },
  {
   "cell_type": "markdown",
   "metadata": {},
   "source": [
    "False가 리턴되었네요!   \n",
    "따라서, 'and' 논리 연산자는 **두가지 조건이 모두 참일 때**, True를 리턴하는 것을 알 수 있습니다. "
   ]
  },
  {
   "cell_type": "markdown",
   "metadata": {},
   "source": [
    "### 'or' 혹은 '||' 연산자\n",
    "위에 언급드렸듯, or 연산자는 두 조건 중, 하나의 조건만 참을 나타내도 True를 나타내는 논리연산자입니다.  \n",
    "코드를 작성해보면서 배워보도록 하겠습니다 !"
   ]
  },
  {
   "cell_type": "code",
   "execution_count": 27,
   "metadata": {},
   "outputs": [
    {
     "name": "stdout",
     "output_type": "stream",
     "text": [
      "True\n"
     ]
    }
   ],
   "source": [
    "print(2==2 or 2==3)"
   ]
  },
  {
   "cell_type": "markdown",
   "metadata": {},
   "source": [
    "위 and의 결과값과는 다르게, '2==2'라는 조건만 참이 되었는데도 True를 리턴해주는 것을 알 수 있습니다.  \n",
    "또한, 아래와 같이 3가지 이상의 조건을 비교할 수도 있습니다. "
   ]
  },
  {
   "cell_type": "code",
   "execution_count": 30,
   "metadata": {},
   "outputs": [
    {
     "name": "stdout",
     "output_type": "stream",
     "text": [
      "False\n"
     ]
    }
   ],
   "source": [
    "print(2==3 and 3==3 and 4==4 and 5==5)"
   ]
  },
  {
   "cell_type": "code",
   "execution_count": 29,
   "metadata": {},
   "outputs": [
    {
     "name": "stdout",
     "output_type": "stream",
     "text": [
      "True\n"
     ]
    }
   ],
   "source": [
    "print(2==3 or 3==3 or 4==4 or 5==5)"
   ]
  },
  {
   "cell_type": "markdown",
   "metadata": {},
   "source": [
    "조건이 여러가지가 되어도, and의 경우 모든 조건이 참이 되어야 True,  \n",
    "or의 경우 하나의 조건만 참이 되어도 True를 리턴하는 것을 알 수 있습니다."
   ]
  },
  {
   "cell_type": "markdown",
   "metadata": {},
   "source": [
    "### 'not' 연산자"
   ]
  },
  {
   "cell_type": "markdown",
   "metadata": {},
   "source": [
    "'!' 연산자는 True를 False로, False를 True로 바꾸는 역할을 합니다.  \n",
    "코드를 통해 설명드리도록 하겠습니다. "
   ]
  },
  {
   "cell_type": "code",
   "execution_count": 35,
   "metadata": {},
   "outputs": [
    {
     "name": "stdout",
     "output_type": "stream",
     "text": [
      "False\n"
     ]
    }
   ],
   "source": [
    "print(not True)"
   ]
  },
  {
   "cell_type": "markdown",
   "metadata": {},
   "source": [
    "실전에서는 이런식으로 사용하실 수 있습니다. "
   ]
  },
  {
   "cell_type": "code",
   "execution_count": 36,
   "metadata": {},
   "outputs": [
    {
     "name": "stdout",
     "output_type": "stream",
     "text": [
      "his age is not 5\n"
     ]
    }
   ],
   "source": [
    "age = 10\n",
    "\n",
    "# 만약 age가 5가 아니라면, 아래 문장을 출력해주세요.\n",
    "if age is not 5:\n",
    "    print(\"his age is not 5\")"
   ]
  },
  {
   "cell_type": "markdown",
   "metadata": {},
   "source": [
    "### 논리 연산자의 활용\n",
    "지금까지 배웠던 논리 연산자를 활용해서,  \n",
    "성적에 따라 A, B, C, D로 분류하는 코드를  만들어보도록 하겠습니다!\n",
    "성적을 분류하는 기준을 다시 적어보면 다음과 같습니다. \n",
    "\n",
    "A : 91 ~ 100  \n",
    "B : 81 ~ 90  \n",
    "C : 71 ~ 80  \n",
    "D : ~ 70  \n",
    "\n",
    "이를 풀어서, 조건을 써보면, \n",
    "A : 91 이상 100 이하\n",
    "B : 81 이상 90 이하 \n",
    "C : 71 이상 80 이하 \n",
    "D : 70 이하  \n",
    "\n",
    "라고 정리해볼 수 있습니다. \n",
    "이를 코드로 작성해보면 다음과 같습니다. "
   ]
  },
  {
   "cell_type": "code",
   "execution_count": 3,
   "metadata": {},
   "outputs": [
    {
     "name": "stdout",
     "output_type": "stream",
     "text": [
      "B\n"
     ]
    }
   ],
   "source": [
    "score = 90 \n",
    "grade = \"\"\n",
    "\n",
    "#만약 성적이 91 이상이고 100이하라면, grade는 \"A\"\n",
    "if score >= 91 and score <= 100:\n",
    "    grade = \"A\"\n",
    "\n",
    "#만약 성적이 81 이상이고 90이하라면, grade는 \"B\"\n",
    "elif score >= 81 and score <= 90: \n",
    "    grade = \"B\"\n",
    "\n",
    "#만약 성적이 71 이상이고 80이하라면, grade는 \"C\"\n",
    "elif score >= 71 and score <= 80:\n",
    "    grade = \"C\"\n",
    "    \n",
    "#나머지는 \"D\"이다.\n",
    "else:\n",
    "    grade = \"D\"\n",
    "    \n",
    "print(grade)"
   ]
  },
  {
   "cell_type": "markdown",
   "metadata": {},
   "source": [
    "자, 이제 읽히시죠? ^^  \n",
    "이제, 우리는 조건에 따른 처리를 할 수 있게 되었습니다 ! \n",
    "\n",
    "다음 시간에는 **반복문**에 대해 배울 예정입니다.  \n",
    "위에 언급해드렸듯, 조건문과 반복문은 정말 중요한 내용이므로,  \n",
    "반드시 이해하고 넘어가주세요!"
   ]
  }
 ],
 "metadata": {
  "kernelspec": {
   "display_name": "Python 3",
   "language": "python",
   "name": "python3"
  },
  "language_info": {
   "codemirror_mode": {
    "name": "ipython",
    "version": 3
   },
   "file_extension": ".py",
   "mimetype": "text/x-python",
   "name": "python",
   "nbconvert_exporter": "python",
   "pygments_lexer": "ipython3",
   "version": "3.7.6"
  }
 },
 "nbformat": 4,
 "nbformat_minor": 4
}
