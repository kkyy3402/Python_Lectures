{
 "cells": [
  {
   "cell_type": "markdown",
   "metadata": {},
   "source": [
    "### 스트링 포맷\n",
    "\n",
    "이번 시간에는 문자열을 다루는 방법에 대해 배워보겠습니다.\n",
    "\n",
    "사용자로부터 이름을 입력받고,  \n",
    "그 이름을 출력하는 프로그램을 만들어보 보면서 배워보죠!"
   ]
  },
  {
   "cell_type": "markdown",
   "metadata": {},
   "source": [
    "### input() 함수\n",
    "\n",
    "input 함수는 사용자로부터 입력을 받을 수 있도록 도와주는 함수입니다.  \n",
    "사용은 아래와 같이 하시면 됩니다.\n",
    "\n",
    "[입력을 받을 변수] = input()"
   ]
  },
  {
   "cell_type": "code",
   "execution_count": 1,
   "metadata": {},
   "outputs": [
    {
     "name": "stdout",
     "output_type": "stream",
     "text": [
      "3\n"
     ]
    }
   ],
   "source": [
    "value = input()"
   ]
  },
  {
   "cell_type": "code",
   "execution_count": 2,
   "metadata": {},
   "outputs": [
    {
     "data": {
      "text/plain": [
       "'3'"
      ]
     },
     "execution_count": 2,
     "metadata": {},
     "output_type": "execute_result"
    }
   ],
   "source": [
    "value"
   ]
  },
  {
   "cell_type": "markdown",
   "metadata": {},
   "source": [
    "### 어떤 일이 일어난 것일까요?\n",
    "\n",
    "1. 먼저, input() 함수를 통해 value로 사용자가 입력한 값을 받을 수 있음을 알 수 있습니다.  \n",
    "2. 그리고, value 변수의 값을 출력해보면 '3' 이라고 되어있습니다.  \n",
    "   **따라서, 사용자로부터의 입력은 스트링 타입으로 받아졌음을 알 수 있습니다.**"
   ]
  },
  {
   "cell_type": "markdown",
   "metadata": {},
   "source": [
    "### 숫자 말고 다른 값의 입력을 받아보기\n",
    "\n",
    "이번에는, 숫자 말고 다른 형식의 값을 받아보도록 하고, 입력을 받기 전에  \n",
    "아래와 같이 메시지를 출력하면서 입력을 받아보도록 하죠."
   ]
  },
  {
   "cell_type": "code",
   "execution_count": 7,
   "metadata": {},
   "outputs": [
    {
     "name": "stdout",
     "output_type": "stream",
     "text": [
      "값을 입력해주세요.\n",
      "안녕하세요!\n"
     ]
    }
   ],
   "source": [
    "print(\"값을 입력해주세요.\")\n",
    "myValue = input()"
   ]
  },
  {
   "cell_type": "markdown",
   "metadata": {},
   "source": [
    "자, 그러면 이제 기본적인 input() 함수의 사용법을 배웠으니,  \n",
    "우리가 챕터를 시작하면서 목표로 잡았던 사용자로부터 이름을 입력받고,  \n",
    "**\"당신의 이름은 ㅁㅁㅁ입니다.\"** 를 출력하는 간단한 프로그램을 만들어보도록 하겠습니다."
   ]
  },
  {
   "cell_type": "markdown",
   "metadata": {},
   "source": [
    "### 변수와 스트링 같이 출력하기\n",
    "\n",
    "그런 프로그램을 만들어보려고 했는데,  \n",
    "결과값에 스트링과 사용자의 입력값이 같이 들어가야 하네요.  \n",
    "어떻게 하면 될까요? \n",
    "\n",
    "여러 방법이 있지만, 저는 아래와 같은 방법을 추천합니다."
   ]
  },
  {
   "cell_type": "code",
   "execution_count": 9,
   "metadata": {},
   "outputs": [
    {
     "name": "stdout",
     "output_type": "stream",
     "text": [
      "이름을 입력해주세요.\n",
      "donald trump\n",
      "당신의 이름은 donald trump 입니다.\n"
     ]
    }
   ],
   "source": [
    "print(\"이름을 입력해주세요.\")\n",
    "userName = input()\n",
    "print(\"당신의 이름은 {} 입니다.\".format(userName))"
   ]
  },
  {
   "cell_type": "markdown",
   "metadata": {},
   "source": [
    "위 코드가 이해 가시나요?  \n",
    "**{} 안에 사용할 변수를 넣고, 문자열 뒤에 .format([사용될 변수 명]) 형식**으로  \n",
    "사용될 변수를 지정해주는 방식입니다.\n",
    "\n",
    "*조금 복잡하죠? ^^;;*"
   ]
  },
  {
   "cell_type": "markdown",
   "metadata": {},
   "source": [
    "이에 대한 좀더 자세한 설명은  \n",
    "아래 글을 참고하시기 바랍니다.  \n",
    "https://velog.io/@ceres/Python-%EB%AC%B8%EC%9E%90%EC%97%B4-%ED%8F%AC%EB%A7%B7%ED%8C%85-String-Formatting"
   ]
  }
 ],
 "metadata": {
  "kernelspec": {
   "display_name": "Python 3",
   "language": "python",
   "name": "python3"
  },
  "language_info": {
   "codemirror_mode": {
    "name": "ipython",
    "version": 3
   },
   "file_extension": ".py",
   "mimetype": "text/x-python",
   "name": "python",
   "nbconvert_exporter": "python",
   "pygments_lexer": "ipython3",
   "version": "3.7.9"
  }
 },
 "nbformat": 4,
 "nbformat_minor": 4
}
