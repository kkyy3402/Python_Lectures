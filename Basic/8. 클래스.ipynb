{
 "cells": [
  {
   "cell_type": "markdown",
   "metadata": {},
   "source": [
    "# 클래스"
   ]
  },
  {
   "cell_type": "markdown",
   "metadata": {},
   "source": [
    "자동차는 타이어가 있고, 주행을 오래 하게 되면 교체를 해야합니다. \n",
    "\n",
    "파이썬에서, 이 자동차를 나타내고 싶을 때는 어떻게 할까요 ?\n",
    "\n",
    "클래스를 이용하면 됩니다. \n",
    "\n",
    "클래스는 이러한 현실 세계의 모습을 코드로써 실체화 시킬 수 있는 도구입니다.\n",
    "\n",
    "타이어가 4개인 자동차는 다음과 같이 클래스로 나타낼 수 있습니다."
   ]
  },
  {
   "cell_type": "markdown",
   "metadata": {},
   "source": [
    "### 기본 클래스 생성하기"
   ]
  },
  {
   "cell_type": "code",
   "execution_count": 13,
   "metadata": {},
   "outputs": [],
   "source": [
    "class Car:\n",
    "    \n",
    "    tire = 4 # 클래스 안에 존재하는 변수를 property(재산)이라고 합니다."
   ]
  },
  {
   "cell_type": "markdown",
   "metadata": {},
   "source": [
    "이렇게 선언하게 되면 타이어 4개를 가진 자동차를 이제 코드상에서 불러올 수 있습니다. \n",
    "\n",
    "아래처럼 말이죠! "
   ]
  },
  {
   "cell_type": "code",
   "execution_count": 8,
   "metadata": {},
   "outputs": [
    {
     "name": "stdout",
     "output_type": "stream",
     "text": [
      "4\n"
     ]
    }
   ],
   "source": [
    "car1 = Car() \n",
    "# 그리고, car1이 가지고 있는 타이어 갯수를 출력할 수 있습니다. \n",
    "# .(점)으로 자동차가 가지고 있는 tire에 접근할 수 있습니다.\n",
    "print(car1.tire)"
   ]
  },
  {
   "cell_type": "markdown",
   "metadata": {},
   "source": [
    "car1이라는 변수를 선언한 뒤, Car()을 넣어주었습니다.  \n",
    "또, car2를 만들어 볼까요? "
   ]
  },
  {
   "cell_type": "code",
   "execution_count": 11,
   "metadata": {},
   "outputs": [
    {
     "name": "stdout",
     "output_type": "stream",
     "text": [
      "3\n",
      "4\n"
     ]
    }
   ],
   "source": [
    "car2 = Car() \n",
    "\n",
    "#car1의 타이어 갯수를 3으로 바꾸고, car1, car2의 타이어 갯수를 각각 출력해보겠습니다. \n",
    "car1.tire = 3\n",
    "print(car1.tire)\n",
    "print(car2.tire)"
   ]
  },
  {
   "cell_type": "markdown",
   "metadata": {},
   "source": [
    "결과를 보니, 타이어의 갯수가 car1의 경우 3, car2의 경우 4로 변경되었습니다.  \n",
    "즉, 두 자동차는 서로 따로따로 관리되는 독립적인 객체이다! 라는 것을 알 수 있습니다."
   ]
  },
  {
   "cell_type": "markdown",
   "metadata": {},
   "source": [
    "### 메서드 만들어보기"
   ]
  },
  {
   "cell_type": "markdown",
   "metadata": {},
   "source": [
    "클래스 안에 다음과 같이 함수를 추가할 수도 있습니다.  "
   ]
  },
  {
   "cell_type": "code",
   "execution_count": 29,
   "metadata": {},
   "outputs": [],
   "source": [
    "class Car:\n",
    "    \n",
    "    tire = 4 \n",
    "    \n",
    "    # 현재 타이어 갯수를 리턴하는 함수\n",
    "    def getTire(self):\n",
    "        return self.tire\n",
    "    \n",
    "    # 타이어 갯수를 바꾸는 함수\n",
    "    def setTire(self, num_tire):\n",
    "        print(\"타이어의 갯수가 {}개로 변경되었습니다.\".format(num_tire))\n",
    "        self.tire = num_tire"
   ]
  },
  {
   "cell_type": "markdown",
   "metadata": {},
   "source": [
    "앞서 배웠던 함수와 모양은 비슷한데, **this** 라는게 생겼네요?\n",
    "**this**는 '이것'이라는 뜻이죠? \n",
    "\n",
    "this를 써줘야 하는 이유는 ~*에러가 생기니까*~  tire가 car1의 타이어인지, car2의 타이어인지 알 수가 없잖아요 ?  \n",
    "그래서, 클래스에서 함수를 정의할 때에는 파라미터에 this를 꼭 추가해줘야 합니다. ~~~안그러면 에러가 발생합니다~~~"
   ]
  },
  {
   "cell_type": "markdown",
   "metadata": {},
   "source": [
    "> 클래스에서 메서드를 정의할 때, 파라미터에 this를 표기해줘야 함"
   ]
  },
  {
   "cell_type": "markdown",
   "metadata": {},
   "source": [
    "우리가 만든 메서드를 실행시켜볼까요? "
   ]
  },
  {
   "cell_type": "code",
   "execution_count": 8,
   "metadata": {},
   "outputs": [
    {
     "name": "stdout",
     "output_type": "stream",
     "text": [
      "타이어의 갯수가 2개로 변경되었습니다.\n"
     ]
    }
   ],
   "source": [
    "car1 = Car()\n",
    "car1.setTire(2)\n",
    "print(car1.getTire())"
   ]
  },
  {
   "cell_type": "markdown",
   "metadata": {},
   "source": [
    "와우! 우리가 직접 만든 클래스의 메서드가 정상적으로 동작하는 것이 확인되었습니다 !"
   ]
  },
  {
   "cell_type": "markdown",
   "metadata": {},
   "source": [
    "### 생성자"
   ]
  },
  {
   "cell_type": "markdown",
   "metadata": {},
   "source": [
    "이번에는 생성자에 대해 배워보도록 하겠습니다.  \n",
    "생성자는 하나의 클래스 객체가 생성될 때 딱 한번 호출되는 함수입니다.  \n",
    "\n",
    "보통, 클래스의 프로퍼티들을 초기화하는 용도로 많이 사용 됩니다.  \n",
    "아래 코드를 보도록 하겠습니다. "
   ]
  },
  {
   "cell_type": "code",
   "execution_count": 26,
   "metadata": {},
   "outputs": [],
   "source": [
    "class Car:\n",
    "    \n",
    "    def __init__(self):\n",
    "        print(\"Car Object is created\")"
   ]
  },
  {
   "cell_type": "markdown",
   "metadata": {},
   "source": [
    "생성자는 위와같이 정의하며, Car라는 객체가 생성될 때 한번 실행되게 됩니다. "
   ]
  },
  {
   "cell_type": "code",
   "execution_count": 18,
   "metadata": {},
   "outputs": [
    {
     "name": "stdout",
     "output_type": "stream",
     "text": [
      "Car Object is created\n"
     ]
    }
   ],
   "source": [
    "car1 = Car()"
   ]
  },
  {
   "cell_type": "markdown",
   "metadata": {},
   "source": [
    "아래와 같이 생성자를 구성하면, 객체를 생성함과 동시에 초기화도 가능합니다."
   ]
  },
  {
   "cell_type": "code",
   "execution_count": 24,
   "metadata": {},
   "outputs": [],
   "source": [
    "class Car:\n",
    "    \n",
    "    num_tire = 0\n",
    "    def __init__(self, num):\n",
    "        self.num_tire = num\n",
    "        "
   ]
  },
  {
   "cell_type": "code",
   "execution_count": 25,
   "metadata": {},
   "outputs": [
    {
     "name": "stdout",
     "output_type": "stream",
     "text": [
      "2\n"
     ]
    }
   ],
   "source": [
    "car1 = Car(2)\n",
    "\n",
    "print(car1.num_tire)"
   ]
  },
  {
   "cell_type": "code",
   "execution_count": null,
   "metadata": {},
   "outputs": [],
   "source": []
  }
 ],
 "metadata": {
  "kernelspec": {
   "display_name": "Python 2",
   "language": "python",
   "name": "python2"
  },
  "language_info": {
   "codemirror_mode": {
    "name": "ipython",
    "version": 2
   },
   "file_extension": ".py",
   "mimetype": "text/x-python",
   "name": "python",
   "nbconvert_exporter": "python",
   "pygments_lexer": "ipython2",
   "version": "2.7.17"
  }
 },
 "nbformat": 4,
 "nbformat_minor": 2
}
