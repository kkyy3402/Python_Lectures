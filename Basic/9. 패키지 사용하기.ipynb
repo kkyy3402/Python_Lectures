{
 "cells": [
  {
   "cell_type": "markdown",
   "metadata": {},
   "source": [
    "# 패키지 사용하기\n",
    "\n",
    "패키지는 우리나라말로 '모음'의 뜻이죠.  \n",
    "'유용한 함수 등을 모아놓은 선물꾸러미'로 저는 설명하고 싶습니다. \n",
    "\n",
    "패키지는 파이썬 내에 내장된 패키지가 있고,  \n",
    "사람들이 배포해놓은 패키지로 나뉩니다. \n",
    "\n",
    "먼저, 파이썬 내에 내장된 패키지를 알아보고,  \n",
    "사람들이 배포해놓은 패키지를 사용하는 방법을 알아보도록 하겠습니다."
   ]
  },
  {
   "cell_type": "markdown",
   "metadata": {},
   "source": [
    "# 파이썬 내장 패키지 사용하기 \n",
    "\n",
    "패키지는 다음"
   ]
  },
  {
   "cell_type": "markdown",
   "metadata": {},
   "source": [
    "# pip 사용 방법"
   ]
  },
  {
   "cell_type": "code",
   "execution_count": null,
   "metadata": {},
   "outputs": [],
   "source": []
  }
 ],
 "metadata": {
  "kernelspec": {
   "display_name": "Python 3",
   "language": "python",
   "name": "python3"
  },
  "language_info": {
   "codemirror_mode": {
    "name": "ipython",
    "version": 3
   },
   "file_extension": ".py",
   "mimetype": "text/x-python",
   "name": "python",
   "nbconvert_exporter": "python",
   "pygments_lexer": "ipython3",
   "version": "3.7.6"
  }
 },
 "nbformat": 4,
 "nbformat_minor": 4
}
