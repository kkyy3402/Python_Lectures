{
 "cells": [
  {
   "cell_type": "markdown",
   "metadata": {},
   "source": [
    "# 컨테이너"
   ]
  },
  {
   "cell_type": "markdown",
   "metadata": {},
   "source": [
    "<img src=\"imgs/3-1.jpg\"></img>"
   ]
  },
  {
   "cell_type": "markdown",
   "metadata": {},
   "source": [
    "수출하는 배 사진을 보면, 컨테이너들이 쭉~ 쌓여있는 것을 볼 수 있습니다.  \n",
    "무언가를 담을 수 있는 상자를 컨테이너라고 이야기하죠.  \n",
    "\n",
    "파이썬에도 무언가를 담을 수 있는 '컨테이너'가 있습니다."
   ]
  },
  {
   "cell_type": "markdown",
   "metadata": {},
   "source": [
    "**컨테이너의 종류** \n",
    "- 딕셔너리\n",
    "- 리스트\n",
    "- 튜플\n",
    "- 집합\n",
    "- 등등..\n",
    "\n",
    "여러가지의 컨테이너들이 있습니다.  \n",
    "다 배우면 좋겠지만, 우리는 현재 초보자이기 때문에,  \n",
    "사용 빈도가 높은 컨테이너 위주로 배워보도록 하겠습니다. \n",
    "\n",
    "가장 사용 빈도가 높은 컨테이너는 다음과 같습니다.(개인적 견해)\n",
    "- **리스트**\n",
    "- **딕셔너리**\n",
    "\n",
    "자, 이제 각 컨테이너들에 대해 배워보도록 하겠습니다."
   ]
  },
  {
   "cell_type": "markdown",
   "metadata": {},
   "source": [
    "### 리스트"
   ]
  },
  {
   "cell_type": "markdown",
   "metadata": {},
   "source": [
    "말로 설명하기보다, 리스트는 어떤식으로 데이터를 담는지 코드를 통해 보도록 하겠습니다! "
   ]
  },
  {
   "cell_type": "code",
   "execution_count": 7,
   "metadata": {},
   "outputs": [
    {
     "name": "stdout",
     "output_type": "stream",
     "text": [
      "[1, 2, 3, 4, 5]\n"
     ]
    }
   ],
   "source": [
    "a = [1,2,3,4,5]\n",
    "print(a)"
   ]
  },
  {
   "cell_type": "code",
   "execution_count": 5,
   "metadata": {},
   "outputs": [
    {
     "name": "stdout",
     "output_type": "stream",
     "text": [
      "<class 'list'>\n"
     ]
    }
   ],
   "source": [
    "print(type(a))"
   ]
  },
  {
   "cell_type": "markdown",
   "metadata": {},
   "source": [
    "자 위에 출력된 결과를 보면, 다음과 같은 사실을 알 수 있습니다.\n",
    "\n",
    "**1. a라는 변수에 int형의 자료가 5개 들어갈 수 있다.**  \n",
    "**2. a의 타입은 list이다.** "
   ]
  },
  {
   "cell_type": "markdown",
   "metadata": {},
   "source": [
    "위 예제를 다른 방식으로 구현해보면... "
   ]
  },
  {
   "cell_type": "code",
   "execution_count": 11,
   "metadata": {},
   "outputs": [
    {
     "name": "stdout",
     "output_type": "stream",
     "text": [
      "[1, 2, 3, 4, 5]\n"
     ]
    }
   ],
   "source": [
    "b = list()\n",
    "b.append(1)\n",
    "b.append(2)\n",
    "b.append(3)\n",
    "b.append(4)\n",
    "b.append(5)\n",
    "\n",
    "print(b)"
   ]
  },
  {
   "cell_type": "code",
   "execution_count": 12,
   "metadata": {},
   "outputs": [
    {
     "name": "stdout",
     "output_type": "stream",
     "text": [
      "<class 'list'>\n"
     ]
    }
   ],
   "source": [
    "print(type(b))"
   ]
  },
  {
   "cell_type": "markdown",
   "metadata": {},
   "source": [
    "동일한 결과가 출력되는데, 요번에는 빈 list를 b라는 변수에 넣고,  \n",
    "1,2,3,4,5를 각각 append(추가) 해주는 방식으로 구현해보았습니다."
   ]
  },
  {
   "cell_type": "markdown",
   "metadata": {},
   "source": [
    "또 다른 구현방법이 있습니다..  \n",
    "외우지 않으셔도 되고, 'list라는 것이 이런 용도로 쓰이는구나!' 하고 알고 넘어가시면 됩니다. "
   ]
  },
  {
   "cell_type": "code",
   "execution_count": 13,
   "metadata": {},
   "outputs": [
    {
     "name": "stdout",
     "output_type": "stream",
     "text": [
      "[1, 2]\n"
     ]
    }
   ],
   "source": [
    "c = [] \n",
    "c.append(1)\n",
    "c.append(2)\n",
    "\n",
    "print(c)"
   ]
  },
  {
   "cell_type": "code",
   "execution_count": 14,
   "metadata": {},
   "outputs": [
    {
     "name": "stdout",
     "output_type": "stream",
     "text": [
      "<class 'list'>\n"
     ]
    }
   ],
   "source": [
    "print(type(c))"
   ]
  },
  {
   "cell_type": "markdown",
   "metadata": {},
   "source": [
    "list()로 선언하던 것을 []로 선언해도 동일한 결과를 얻을 수 있습니다."
   ]
  },
  {
   "cell_type": "markdown",
   "metadata": {},
   "source": [
    "### 다양한 타입의 데이터가 포함된 리스트 만들기"
   ]
  },
  {
   "cell_type": "markdown",
   "metadata": {},
   "source": [
    "위 예제에서는 int 타입만 포함된 리스트를 만들었습니다.  \n",
    "이번에는, 여러가지 타입이 포함된 리스트를 만들어 보겠습니다! "
   ]
  },
  {
   "cell_type": "code",
   "execution_count": 16,
   "metadata": {},
   "outputs": [
    {
     "name": "stdout",
     "output_type": "stream",
     "text": [
      "[1, 'Hi', 1.0, True]\n"
     ]
    }
   ],
   "source": [
    "example = list() \n",
    "example.append(1)\n",
    "example.append(\"Hi\")\n",
    "example.append(1.0)\n",
    "example.append(True)\n",
    "\n",
    "print(example)"
   ]
  },
  {
   "cell_type": "markdown",
   "metadata": {},
   "source": [
    "자, 어떤가요?  \n",
    "각각 int, str, float, bool 타입의 값이 한꺼번에 들어가네요!"
   ]
  },
  {
   "cell_type": "markdown",
   "metadata": {},
   "source": [
    "위에서 '컨테이너도 타입이다!' 라고 써져있는 문장을 보셨나요?  \n",
    "그러니까, list 안에 int가 들어간 것 처럼, list 안에 list를 포함할 수 있다는 이야기 입니다!"
   ]
  },
  {
   "cell_type": "code",
   "execution_count": 18,
   "metadata": {},
   "outputs": [
    {
     "name": "stdout",
     "output_type": "stream",
     "text": [
      "[1, [1, 2, 3]]\n"
     ]
    }
   ],
   "source": [
    "example = list() \n",
    "example.append(1)\n",
    "example.append([1,2,3])\n",
    "\n",
    "print(example)"
   ]
  },
  {
   "cell_type": "markdown",
   "metadata": {},
   "source": [
    "이렇게 말이죠! "
   ]
  },
  {
   "cell_type": "markdown",
   "metadata": {},
   "source": [
    "**자, 여기까지의 내용을 요약해보면, 'list는 순차적인 데이터를 집어넣을 수 있는 컨테이너다!'라고 요약할 수 있겠습니다.** "
   ]
  },
  {
   "cell_type": "markdown",
   "metadata": {},
   "source": [
    "### 리스트 조회하기 ###"
   ]
  },
  {
   "cell_type": "markdown",
   "metadata": {},
   "source": [
    "바로 위에서는 리스트를 생성하고, 리스트 안에 값을 append하는 것을 배워봤습니다.  \n",
    "지금부터는, 값을 조회하는 방법을 배워보도록 하겠습니다 ! \n",
    "\n",
    "자 먼저, 예제로 사용할 list를 만들어줍니다."
   ]
  },
  {
   "cell_type": "code",
   "execution_count": 20,
   "metadata": {},
   "outputs": [],
   "source": [
    "example = [1,2,3,4,5]"
   ]
  },
  {
   "cell_type": "markdown",
   "metadata": {},
   "source": [
    "자, 이렇게 저장된 list에서 2라는 숫자를 조회하고 싶으면 어떻게 할까요? \n",
    "\n",
    "결론부터 말씀드리면.. 아래 명령어를 입력하시면 됩니다! "
   ]
  },
  {
   "cell_type": "code",
   "execution_count": 22,
   "metadata": {},
   "outputs": [
    {
     "name": "stdout",
     "output_type": "stream",
     "text": [
      "2\n"
     ]
    }
   ],
   "source": [
    "print(example[1])"
   ]
  },
  {
   "cell_type": "markdown",
   "metadata": {},
   "source": [
    "위 명령어는 'example이라는 list의 1번 인덱스에 접근' 하는 명령어입니다. \n",
    "그런데, 숫자 2는 2번째에 있는데, 왜 1번 인덱스에 접근할까요? \n",
    "\n",
    "이유는, **인덱스는 0부터 시작하기 때문입니다!!** \n",
    "\n",
    "그러니까, 리스트의 첫번째 항목에 접근하기 위해서는 아래와 같이 입력해줘야 한다는 의미입니다. "
   ]
  },
  {
   "cell_type": "code",
   "execution_count": 23,
   "metadata": {},
   "outputs": [
    {
     "name": "stdout",
     "output_type": "stream",
     "text": [
      "1\n"
     ]
    }
   ],
   "source": [
    "print(example[0])"
   ]
  },
  {
   "cell_type": "markdown",
   "metadata": {},
   "source": [
    "한번 더 실습해볼까요?  \n",
    "숫자 5에 접근하기 위해서는?  \n",
    "\n",
    "4번 index에 접근하면 되겠죠 !"
   ]
  },
  {
   "cell_type": "code",
   "execution_count": 24,
   "metadata": {},
   "outputs": [
    {
     "name": "stdout",
     "output_type": "stream",
     "text": [
      "5\n"
     ]
    }
   ],
   "source": [
    "print(example[4])"
   ]
  },
  {
   "cell_type": "markdown",
   "metadata": {},
   "source": [
    "그럼 혹시, 5번 인덱스에 접근하면 어떻게 될까요?? "
   ]
  },
  {
   "cell_type": "code",
   "execution_count": 26,
   "metadata": {},
   "outputs": [
    {
     "ename": "IndexError",
     "evalue": "list index out of range",
     "output_type": "error",
     "traceback": [
      "\u001b[1;31m---------------------------------------------------------------------------\u001b[0m",
      "\u001b[1;31mIndexError\u001b[0m                                Traceback (most recent call last)",
      "\u001b[1;32m<ipython-input-26-4bfce51c9446>\u001b[0m in \u001b[0;36m<module>\u001b[1;34m\u001b[0m\n\u001b[1;32m----> 1\u001b[1;33m \u001b[0mprint\u001b[0m\u001b[1;33m(\u001b[0m\u001b[0mexample\u001b[0m\u001b[1;33m[\u001b[0m\u001b[1;36m5\u001b[0m\u001b[1;33m]\u001b[0m\u001b[1;33m)\u001b[0m\u001b[1;33m\u001b[0m\u001b[1;33m\u001b[0m\u001b[0m\n\u001b[0m",
      "\u001b[1;31mIndexError\u001b[0m: list index out of range"
     ]
    }
   ],
   "source": [
    "print(example[5])"
   ]
  },
  {
   "cell_type": "markdown",
   "metadata": {},
   "source": [
    "list index out of range라는 에러 메시지가 출력됩니다. \n",
    "\n",
    "이는 list의 인덱스 범위가 0 ~ 4이고, 이를 벗어났기 때문에 발생한 에러메시지입니다. \n",
    "\n",
    "따라서, 기억해야되겠죠!\n",
    "\n",
    "***list의 인덱스는 0부터 시작한다!!!!***"
   ]
  },
  {
   "cell_type": "markdown",
   "metadata": {},
   "source": [
    "### 리스트 내용 삭제하기"
   ]
  },
  {
   "cell_type": "markdown",
   "metadata": {},
   "source": [
    "리스트 내용 조회 및 인덱스에 대한 것을 배워봤습니다.  \n",
    "리스트 안에 있는 내용을 지우고 싶을 때는 어떻게 할까요?  \n",
    "remove 명령어를 사용하면 됩니다.  \n",
    "example 리스트 안에 있는 내용을 삭제해보도록 하겠습니다. "
   ]
  },
  {
   "cell_type": "code",
   "execution_count": 4,
   "metadata": {},
   "outputs": [
    {
     "name": "stdout",
     "output_type": "stream",
     "text": [
      "[1, 2, 3, 4, 5]\n"
     ]
    }
   ],
   "source": [
    "example = [1,2,3,4,5]\n",
    "print(example)"
   ]
  },
  {
   "cell_type": "code",
   "execution_count": 2,
   "metadata": {},
   "outputs": [],
   "source": [
    "example.remove(1)"
   ]
  },
  {
   "cell_type": "code",
   "execution_count": 3,
   "metadata": {},
   "outputs": [
    {
     "name": "stdout",
     "output_type": "stream",
     "text": [
      "[2, 3, 4, 5]\n"
     ]
    }
   ],
   "source": [
    "print(example)"
   ]
  },
  {
   "cell_type": "markdown",
   "metadata": {},
   "source": [
    "remove 명령어를 사용할 때는 인덱스가 아닌, 값을 기준으로 삭제합니다.  \n",
    "**그러니까, 우리가 지금 1이라는 값을 지우고 싶다고 컴퓨터에게 요청한 것이죠.**"
   ]
  },
  {
   "cell_type": "markdown",
   "metadata": {},
   "source": [
    "확실한 이해를 위해 스트링으로 리스트를 구성해서 한번 다시 해보도록 하겠습니다."
   ]
  },
  {
   "cell_type": "code",
   "execution_count": 5,
   "metadata": {},
   "outputs": [
    {
     "name": "stdout",
     "output_type": "stream",
     "text": [
      "['다람쥐', '기린', '고등어']\n"
     ]
    }
   ],
   "source": [
    "example = [\"다람쥐\",\"기린\",\"고등어\"]\n",
    "print(example)"
   ]
  },
  {
   "cell_type": "code",
   "execution_count": 6,
   "metadata": {},
   "outputs": [],
   "source": [
    "example.remove(\"다람쥐\")"
   ]
  },
  {
   "cell_type": "code",
   "execution_count": 7,
   "metadata": {},
   "outputs": [
    {
     "name": "stdout",
     "output_type": "stream",
     "text": [
      "['기린', '고등어']\n"
     ]
    }
   ],
   "source": [
    "print(example)"
   ]
  },
  {
   "cell_type": "markdown",
   "metadata": {},
   "source": [
    "자, remove 명령어는 위와같이 값을 기준으로 내용을 삭제한다는 것을 알고 넘어가시면 될 것 같습니다 !"
   ]
  },
  {
   "cell_type": "markdown",
   "metadata": {},
   "source": [
    "### 리스트 내용 변경하기 "
   ]
  },
  {
   "cell_type": "markdown",
   "metadata": {},
   "source": [
    "리스트 내용의 변경은 어떻게 하면 될까요?  \n",
    "일단 간단한 리스트를 만들어볼께요! "
   ]
  },
  {
   "cell_type": "code",
   "execution_count": 8,
   "metadata": {},
   "outputs": [],
   "source": [
    "example = [1,2,3,4,5]"
   ]
  },
  {
   "cell_type": "markdown",
   "metadata": {},
   "source": [
    "그리고, 이렇게 입력해보죠! "
   ]
  },
  {
   "cell_type": "code",
   "execution_count": 9,
   "metadata": {},
   "outputs": [],
   "source": [
    "example[1] = 3"
   ]
  },
  {
   "cell_type": "markdown",
   "metadata": {},
   "source": [
    "그리고, 값을 확인해보면... "
   ]
  },
  {
   "cell_type": "code",
   "execution_count": 10,
   "metadata": {},
   "outputs": [
    {
     "name": "stdout",
     "output_type": "stream",
     "text": [
      "[1, 3, 3, 4, 5]\n"
     ]
    }
   ],
   "source": [
    "print(example)"
   ]
  },
  {
   "cell_type": "markdown",
   "metadata": {},
   "source": [
    "1번 인덱스의 값이 3으로 변경된 것을 알 수 있습니다.  \n",
    "인덱싱(인덱스를 통해 원소에 접근하는 것) 을 통해 값을 변경시킬 수 있는 것을 확인할 수 있습니다!"
   ]
  },
  {
   "cell_type": "markdown",
   "metadata": {},
   "source": [
    "리스트에 대해 배워야할 내용이 좀더 있지만, 일단 여기까지 배워보고,  \n",
    "반복문을 배우면서 리스트에 대해 좀더 다뤄보도록 하겠습니다~ "
   ]
  },
  {
   "cell_type": "markdown",
   "metadata": {},
   "source": [
    "## Dictionary"
   ]
  },
  {
   "cell_type": "markdown",
   "metadata": {},
   "source": [
    "Dictionary는 '사전'이라는 뜻입니다.  \n",
    "딕셔너리는 '사전'같이 사용할 수 있는 컨테이너입니다.  \n",
    "코드를 작성하면서 설명해보겠습니다.\n",
    "\n",
    "딕셔너리는 크게 2가지 방법으로 선언할 수 있습니다."
   ]
  },
  {
   "cell_type": "code",
   "execution_count": 14,
   "metadata": {},
   "outputs": [],
   "source": [
    "sajun = {} # 혹은 sajun = dict() 로 선언할 수 있고, 동일한 의미입니다."
   ]
  },
  {
   "cell_type": "markdown",
   "metadata": {},
   "source": [
    "그리고, 이 변수를 이용해서 간단한 영한사전을 만들어 볼께요! "
   ]
  },
  {
   "cell_type": "code",
   "execution_count": 17,
   "metadata": {},
   "outputs": [],
   "source": [
    "sajun[\"apple\"] = \"사과\"\n",
    "sajun[\"naver\"] = \"네이버\"\n",
    "sajun[\"google\"] = \"구글\""
   ]
  },
  {
   "cell_type": "markdown",
   "metadata": {},
   "source": [
    "더이상 영단어가 생각이 나지 않아, 네이버 구글을 포함했습니다. .\n",
    "\n",
    "자, 그리고 sajun의 값을 확인해볼까요? "
   ]
  },
  {
   "cell_type": "code",
   "execution_count": 13,
   "metadata": {},
   "outputs": [
    {
     "name": "stdout",
     "output_type": "stream",
     "text": [
      "{'apple': '사과', 'naver': '네이버', 'google': '구글'}\n"
     ]
    }
   ],
   "source": [
    "print(sajun)"
   ]
  },
  {
   "cell_type": "markdown",
   "metadata": {},
   "source": [
    "리스트와는 다르게 뭔가 특이한 형태로 값이 저장된 것을 확인하실 수 있습니다! "
   ]
  },
  {
   "cell_type": "markdown",
   "metadata": {},
   "source": [
    "### 딕셔너리 조회"
   ]
  },
  {
   "cell_type": "markdown",
   "metadata": {},
   "source": [
    "딕셔너리의 값을 보면 {'Key':'Value'} 요런식으로 자료가 구성되어있는 것을 확인할 수 있습니다.  \n",
    "그러니까, apple -> 사과를 나타내도록 되어있죠 !  \n",
    "왼쪽에 있는 값(apple)을 key라고 부르고, 오른쪽에 있는 값(\"사과\")를 Value라고 합니다. \n",
    "\n",
    "딕셔너리의 내용을 조회할 때는 key를 통해 접근합니다! \n",
    "괜히 말이 어려우니, 딕셔너리의 값을 조회하는 코드를 작성해보도록 하겠습니다!"
   ]
  },
  {
   "cell_type": "code",
   "execution_count": 19,
   "metadata": {},
   "outputs": [
    {
     "name": "stdout",
     "output_type": "stream",
     "text": [
      "사과\n"
     ]
    }
   ],
   "source": [
    "print(sajun[\"apple\"])"
   ]
  },
  {
   "cell_type": "code",
   "execution_count": 20,
   "metadata": {},
   "outputs": [
    {
     "name": "stdout",
     "output_type": "stream",
     "text": [
      "네이버\n"
     ]
    }
   ],
   "source": [
    "print(sajun[\"naver\"])"
   ]
  },
  {
   "cell_type": "markdown",
   "metadata": {},
   "source": [
    "어떤 의미인지 감이 오시나요?  \n",
    "딕셔너리를 조회할때는 'key'를 통해 value를 얻어낼 수 있습니다!"
   ]
  },
  {
   "cell_type": "markdown",
   "metadata": {},
   "source": [
    "### 딕셔너리 엘리먼트 삭제"
   ]
  },
  {
   "cell_type": "markdown",
   "metadata": {},
   "source": [
    "딕셔너리 안에 있는 엘리먼트를 삭제해보도록 하겠습니다. "
   ]
  },
  {
   "cell_type": "code",
   "execution_count": 1,
   "metadata": {},
   "outputs": [],
   "source": [
    "man = {\"age\":10, \"weight\":80,\"name\":\"joon ho\"}"
   ]
  },
  {
   "cell_type": "markdown",
   "metadata": {},
   "source": [
    "자, 위와 같은 딕셔너리를 구성한 후, \"age\" key를 삭제하고 싶을 때에는,  \n",
    "아래와 같이 입력하시면 됩니다."
   ]
  },
  {
   "cell_type": "code",
   "execution_count": 2,
   "metadata": {},
   "outputs": [
    {
     "data": {
      "text/plain": [
       "10"
      ]
     },
     "execution_count": 2,
     "metadata": {},
     "output_type": "execute_result"
    }
   ],
   "source": [
    "man.pop(\"age\")"
   ]
  },
  {
   "cell_type": "markdown",
   "metadata": {},
   "source": [
    "잘 삭제되었는지 확인해볼까요?"
   ]
  },
  {
   "cell_type": "code",
   "execution_count": 3,
   "metadata": {},
   "outputs": [
    {
     "name": "stdout",
     "output_type": "stream",
     "text": [
      "{'weight': 80, 'name': 'joon ho'}\n"
     ]
    }
   ],
   "source": [
    "print(man)"
   ]
  },
  {
   "cell_type": "markdown",
   "metadata": {},
   "source": [
    "잘 되었네요. ^^ "
   ]
  },
  {
   "cell_type": "markdown",
   "metadata": {},
   "source": [
    "### 딕셔너리 엘리먼트 변경"
   ]
  },
  {
   "cell_type": "markdown",
   "metadata": {},
   "source": [
    "딕셔너리 안에 있는 엘리먼트를 변경해보도록 하겠습니다~  \n",
    "엘리먼트를 변경하는 방법은 리스트와 흡사합니다.  \n",
    "먼저, 실습할 딕셔너리를 하나 생성해보도록 하겠습니다. "
   ]
  },
  {
   "cell_type": "code",
   "execution_count": 4,
   "metadata": {},
   "outputs": [],
   "source": [
    "myDict = {\"a\":1,\"b\":2,\"c\":3}"
   ]
  },
  {
   "cell_type": "markdown",
   "metadata": {},
   "source": [
    "\"a\" key에 대한 value를 2로 바꾸고 싶다면, 아래와 같이 입력하시면 됩니다. "
   ]
  },
  {
   "cell_type": "code",
   "execution_count": 5,
   "metadata": {},
   "outputs": [],
   "source": [
    "myDict[\"a\"] = 2"
   ]
  },
  {
   "cell_type": "markdown",
   "metadata": {},
   "source": [
    "값이 잘 변경되었는지 확인해보죠!"
   ]
  },
  {
   "cell_type": "code",
   "execution_count": 6,
   "metadata": {},
   "outputs": [
    {
     "name": "stdout",
     "output_type": "stream",
     "text": [
      "{'a': 2, 'b': 2, 'c': 3}\n"
     ]
    }
   ],
   "source": [
    "print(myDict)"
   ]
  },
  {
   "cell_type": "markdown",
   "metadata": {},
   "source": [
    "잘 변경되었네요 ! "
   ]
  },
  {
   "cell_type": "markdown",
   "metadata": {},
   "source": [
    "### 딕셔너리 key, value 조회하기 "
   ]
  },
  {
   "cell_type": "markdown",
   "metadata": {},
   "source": [
    "딕셔너리 안에 있는 key와 value를 조회하고 싶을때가 있습니다.  \n",
    "이럴때는 어떻게 해야할까요? \n",
    "\n",
    "위에서 사용한 myDict를 그대로 사용해보도록 하겠습니다.  \n",
    "아래와 같이 key, value 조회가 가능합니다! "
   ]
  },
  {
   "cell_type": "code",
   "execution_count": 7,
   "metadata": {},
   "outputs": [
    {
     "name": "stdout",
     "output_type": "stream",
     "text": [
      "dict_keys(['a', 'b', 'c'])\n"
     ]
    }
   ],
   "source": [
    "print(myDict.keys())"
   ]
  },
  {
   "cell_type": "code",
   "execution_count": 8,
   "metadata": {},
   "outputs": [
    {
     "name": "stdout",
     "output_type": "stream",
     "text": [
      "dict_values([2, 2, 3])\n"
     ]
    }
   ],
   "source": [
    "print(myDict.values())"
   ]
  },
  {
   "cell_type": "markdown",
   "metadata": {},
   "source": [
    "참 직관적이죠? "
   ]
  },
  {
   "cell_type": "markdown",
   "metadata": {},
   "source": [
    "### 딕셔너리와 리스트의 응용"
   ]
  },
  {
   "cell_type": "markdown",
   "metadata": {},
   "source": [
    "지금까지는, 딕셔너리, 리스트를 각각 어떻게 사용하는지를 배워봤는데,  \n",
    "이제 이 두 컨테이너를 실전에서는 어떻게 활용하는지에 대해 배워보도록 하겠습니다. \n",
    "\n",
    "학생 리스트를 나타내고 싶을 때가 있습니다.  \n",
    "그럴 때는 어떻게 파이썬으로 표현하면 좋을까요?  \n",
    "이렇게 한번 해보죠 ! "
   ]
  },
  {
   "cell_type": "code",
   "execution_count": 9,
   "metadata": {},
   "outputs": [],
   "source": [
    "student_list = []"
   ]
  },
  {
   "cell_type": "markdown",
   "metadata": {},
   "source": [
    "첫번째 학생인 Steve라는 학생을 리스트에 추가해보겠습니다."
   ]
  },
  {
   "cell_type": "code",
   "execution_count": 10,
   "metadata": {},
   "outputs": [],
   "source": [
    "student_list.append({\"name\":\"Steve\",\"age\":16,\"weight\":70})"
   ]
  },
  {
   "cell_type": "markdown",
   "metadata": {},
   "source": [
    "그리고, 2번째 학생도 리스트에 추가해보도록 하겠습니다."
   ]
  },
  {
   "cell_type": "code",
   "execution_count": 11,
   "metadata": {},
   "outputs": [],
   "source": [
    "student_list.append({\"name\":\"Paul\",\"age\":18,\"weight\":80})"
   ]
  },
  {
   "cell_type": "markdown",
   "metadata": {},
   "source": [
    "이제, student_list를 출력해보겠습니다~"
   ]
  },
  {
   "cell_type": "code",
   "execution_count": 12,
   "metadata": {},
   "outputs": [
    {
     "name": "stdout",
     "output_type": "stream",
     "text": [
      "[{'name': 'Steve', 'age': 16, 'weight': 70}, {'name': 'Paul', 'age': 18, 'weight': 80}]\n"
     ]
    }
   ],
   "source": [
    "print(student_list)"
   ]
  },
  {
   "cell_type": "markdown",
   "metadata": {},
   "source": [
    "그리고, student_list를 인덱스를 통해 접근해보면.. "
   ]
  },
  {
   "cell_type": "code",
   "execution_count": 13,
   "metadata": {},
   "outputs": [
    {
     "name": "stdout",
     "output_type": "stream",
     "text": [
      "{'name': 'Steve', 'age': 16, 'weight': 70}\n"
     ]
    }
   ],
   "source": [
    "print(student_list[0]) "
   ]
  },
  {
   "cell_type": "code",
   "execution_count": 14,
   "metadata": {},
   "outputs": [
    {
     "name": "stdout",
     "output_type": "stream",
     "text": [
      "{'name': 'Paul', 'age': 18, 'weight': 80}\n"
     ]
    }
   ],
   "source": [
    "print(student_list[1])"
   ]
  },
  {
   "cell_type": "markdown",
   "metadata": {},
   "source": [
    "이런식으로 각 학생 리스트를 딕셔너리와 리스트의 조합으로 멋지게 구현해낼 수 있습니다!  \n",
    "추후에 class라는 방법으로, student_list를 좀더 멋지게 만들 수 있습니다.  \n",
    "곧 배울 내용이니 조금만 기다려주세요.^^ "
   ]
  },
  {
   "cell_type": "markdown",
   "metadata": {},
   "source": [
    "### json형태의 실제 데이터 살펴보기 ###\n",
    "\n",
    "네트워킹을 통해 서버에 데이터를 요청하여,  \n",
    "딕셔너리 형태로 데이터를 구성하는 json 형태의 데이터가 실제로 어떻게 구성되는지  \n",
    "살펴보도록 하겠습니다."
   ]
  },
  {
   "cell_type": "markdown",
   "metadata": {},
   "source": [
    "아래 명령어를 먼저 입력해주세요.  \n",
    "이번 실습은 실제 서버에 있는 데이터를 가져와야합니다.  \n",
    "이를 위해 requests라는 라이브러리의 설치가 필요합니다.  \n",
    "Code 모드에서 아래와 같이 명령어를 입력해주세요.  \n",
    "!pip3 install requests"
   ]
  },
  {
   "cell_type": "code",
   "execution_count": 1,
   "metadata": {},
   "outputs": [
    {
     "name": "stdout",
     "output_type": "stream",
     "text": [
      "{\n",
      "  \"data\": [\n",
      "    \"ABM\", \n",
      "    \"AWR\", \n",
      "    \"CBSH\", \n",
      "    \"CINF\", \n",
      "    \"CL\", \n",
      "    \"CWT\", \n",
      "    \"DOV\", \n",
      "    \"EMR\", \n",
      "    \"FMCB\", \n",
      "    \"FRT\", \n",
      "    \"FUL\", \n",
      "    \"GPC\", \n",
      "    \"HRL\", \n",
      "    \"JNJ\", \n",
      "    \"KO\", \n",
      "    \"LANC\", \n",
      "    \"LOW\", \n",
      "    \"MMM\", \n",
      "    \"MO\", \n",
      "    \"NDSN\", \n",
      "    \"NWN\", \n",
      "    \"PG\", \n",
      "    \"PH\", \n",
      "    \"SCL\", \n",
      "    \"SJW\", \n",
      "    \"SWK\", \n",
      "    \"SYY\", \n",
      "    \"TGT\", \n",
      "    \"TR\"\n",
      "  ], \n",
      "  \"description\": \"\\uc131\\uacf5\", \n",
      "  \"resultCode\": 200\n",
      "}\n",
      "\n"
     ]
    }
   ],
   "source": [
    "import requests\n",
    "\n",
    "res = requests.get(\"http://kkyy3402.iptime.org:20000/rest/getDividendKingTickerList\")\n",
    "print(res.text)"
   ]
  },
  {
   "cell_type": "markdown",
   "metadata": {},
   "source": [
    "**짠! 서버로부터 딕셔너리 형태의 데이터가 도착하였습니다**\n",
    "\n",
    "현대의 클라이언트-서버간의 데이터를 주고 받을 때  \n",
    "많은 경우 딕셔너리 형태로 구성되어있는 json형식으로 주고받습니다.  \n",
    "서버와 통신하여 프로그램을 작성하는 경우가 많기 때문에,  \n",
    "딕셔너리를 자유롭게 다룰 줄 알아야겠죠 ^^"
   ]
  },
  {
   "cell_type": "markdown",
   "metadata": {},
   "source": [
    "# 정리"
   ]
  },
  {
   "cell_type": "markdown",
   "metadata": {},
   "source": [
    "우리는 지금까지 컨테이너라는 값을 담을 수 있는 상자를 배웠습니다.  \n",
    "\n",
    "그 중, 리스트, 딕셔너리라는 컨테이너를 배웠고,  \n",
    "각각의 컨테이너를 조회, 삭제, 추가, 변경하는 방법을 배웠습니다! \n",
    "\n",
    "컨테이너는 코드를 짜면서, 매우 자주 사용하게 되는 도구이므로,  \n",
    "직접 타이핑해서 꼭 익숙해질 수 있도록 연습하는 것이 중요합니다.  \n",
    "\n",
    "append 등 모든 메서드들을 외울 필요는 없습니다.  \n",
    "필요할때마다 구글링하여 사용하시면 됩니다. ^^ \n",
    "\n",
    "다음 시간에는, 반복문에 대해 배워보도록 하겠습니다.  \n",
    "그 내용들에도 컨테이너에 대한 내용이 이어지므로, 위 내용들을 잘 이해하지 못하셨다면,  \n",
    "다시한번 복습하신 후에 배우실 것을 권장드립니다."
   ]
  }
 ],
 "metadata": {
  "kernelspec": {
   "display_name": "Python 3",
   "language": "python",
   "name": "python3"
  },
  "language_info": {
   "codemirror_mode": {
    "name": "ipython",
    "version": 3
   },
   "file_extension": ".py",
   "mimetype": "text/x-python",
   "name": "python",
   "nbconvert_exporter": "python",
   "pygments_lexer": "ipython3",
   "version": "3.7.9"
  }
 },
 "nbformat": 4,
 "nbformat_minor": 4
}
