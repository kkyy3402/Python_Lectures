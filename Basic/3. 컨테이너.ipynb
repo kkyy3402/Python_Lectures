{
 "cells": [
  {
   "cell_type": "markdown",
   "metadata": {},
   "source": [
    "# 컨테이너"
   ]
  },
  {
   "cell_type": "markdown",
   "metadata": {},
   "source": [
    "<img src=\"imgs/3-1.jpg\"></img>"
   ]
  },
  {
   "cell_type": "markdown",
   "metadata": {},
   "source": [
    "수출하는 배 사진을 보면, 컨테이너들이 쭉~ 쌓여있는 것을 볼 수 있죠. \n",
    "무언가를 담을 수 있는 상자를 컨테이너라고 이야기 합니다. (구글링 해보니 '선적용기'라고 하는군요)\n",
    "\n",
    "파이썬에도 '컨테이너'가 있습니다."
   ]
  },
  {
   "cell_type": "markdown",
   "metadata": {},
   "source": [
    "**컨테이너의 종류** \n",
    "- 딕셔너리\n",
    "- 리스트\n",
    "- 튜플\n",
    "- 집합\n",
    "- 등등..\n",
    "\n",
    "여러가지의 컨테이너들이 있는데요~\n",
    "다 배우면 좋겠지만, 우리는 현재 초보자이기 때문에, 중요한 엑기스만 배워보도록 하겠습니다. \n",
    "\n",
    "그래서, 제가 생각했을 때 파이썬을 쓸때 필수적이라고 생각되는 두가지를 고른다면 ... \n",
    "- **리스트**\n",
    "- **딕셔너리**\n",
    "\n",
    "입니다!!  \n",
    "\n",
    "나중에, 기회가 되면 다른 컨테이너들도 다뤄보도록 하겠습니다.  \n",
    "***아참. 앞서 str, int, float등 타입을 배웠었는데, 사실 이 컨테이너들도 타입입니다.***"
   ]
  },
  {
   "cell_type": "markdown",
   "metadata": {},
   "source": [
    "## List"
   ]
  },
  {
   "cell_type": "markdown",
   "metadata": {},
   "source": [
    "말로 설명하기보다, 리스트는 어떤식으로 데이터를 담는지 코드를 통해 보도록 하겠습니다! "
   ]
  },
  {
   "cell_type": "code",
   "execution_count": 7,
   "metadata": {},
   "outputs": [
    {
     "name": "stdout",
     "output_type": "stream",
     "text": [
      "[1, 2, 3, 4, 5]\n"
     ]
    }
   ],
   "source": [
    "a = [1,2,3,4,5]\n",
    "print(a)"
   ]
  },
  {
   "cell_type": "code",
   "execution_count": 5,
   "metadata": {},
   "outputs": [
    {
     "name": "stdout",
     "output_type": "stream",
     "text": [
      "<class 'list'>\n"
     ]
    }
   ],
   "source": [
    "print(type(a))"
   ]
  },
  {
   "cell_type": "markdown",
   "metadata": {},
   "source": [
    "자 위에 출력된 결과를 보면, 다음과 같은 사실을 알 수 있습니다.\n",
    "\n",
    "**1. a라는 변수에 int형의 자료가 5개 들어갈 수 있다.**  \n",
    "**2. a의 타입은 list이다.** "
   ]
  },
  {
   "cell_type": "markdown",
   "metadata": {},
   "source": [
    "위 예제를 다른 방식으로 구현해보면... "
   ]
  },
  {
   "cell_type": "code",
   "execution_count": 11,
   "metadata": {},
   "outputs": [
    {
     "name": "stdout",
     "output_type": "stream",
     "text": [
      "[1, 2, 3, 4, 5]\n"
     ]
    }
   ],
   "source": [
    "b = list()\n",
    "b.append(1)\n",
    "b.append(2)\n",
    "b.append(3)\n",
    "b.append(4)\n",
    "b.append(5)\n",
    "\n",
    "print(b)"
   ]
  },
  {
   "cell_type": "code",
   "execution_count": 12,
   "metadata": {},
   "outputs": [
    {
     "name": "stdout",
     "output_type": "stream",
     "text": [
      "<class 'list'>\n"
     ]
    }
   ],
   "source": [
    "print(type(b))"
   ]
  },
  {
   "cell_type": "markdown",
   "metadata": {},
   "source": [
    "동일한 결과가 출력되는데, 요번에는 빈 list를 b라는 변수에 넣고,  \n",
    "1,2,3,4,5를 각각 append(추가) 해주는 방식으로 구현해보았습니다."
   ]
  },
  {
   "cell_type": "markdown",
   "metadata": {},
   "source": [
    "또 다른 구현방법이 있습니다..  \n",
    "외우지 않으셔도 되고, 'list라는 것이 이런 용도로 쓰이는구나!' 하고 알고 넘어가시면 됩니다. "
   ]
  },
  {
   "cell_type": "code",
   "execution_count": 13,
   "metadata": {},
   "outputs": [
    {
     "name": "stdout",
     "output_type": "stream",
     "text": [
      "[1, 2]\n"
     ]
    }
   ],
   "source": [
    "c = [] \n",
    "c.append(1)\n",
    "c.append(2)\n",
    "\n",
    "print(c)"
   ]
  },
  {
   "cell_type": "code",
   "execution_count": 14,
   "metadata": {},
   "outputs": [
    {
     "name": "stdout",
     "output_type": "stream",
     "text": [
      "<class 'list'>\n"
     ]
    }
   ],
   "source": [
    "print(type(c))"
   ]
  },
  {
   "cell_type": "markdown",
   "metadata": {},
   "source": [
    "list()로 선언하던 것을 []로 선언해도 동일한 결과를 얻을 수 있습니다."
   ]
  },
  {
   "cell_type": "markdown",
   "metadata": {},
   "source": [
    "### 다양한 타입의 데이터가 포함된 리스트 만들기"
   ]
  },
  {
   "cell_type": "markdown",
   "metadata": {},
   "source": [
    "위 예제에서는 int 타입만 포함된 리스트를 만들었습니다.  \n",
    "이번에는, 여러가지 타입이 포함된 리스트를 만들어 보겠습니다! "
   ]
  },
  {
   "cell_type": "code",
   "execution_count": 16,
   "metadata": {},
   "outputs": [
    {
     "name": "stdout",
     "output_type": "stream",
     "text": [
      "[1, 'Hi', 1.0, True]\n"
     ]
    }
   ],
   "source": [
    "example = list() \n",
    "example.append(1)\n",
    "example.append(\"Hi\")\n",
    "example.append(1.0)\n",
    "example.append(True)\n",
    "\n",
    "print(example)"
   ]
  },
  {
   "cell_type": "markdown",
   "metadata": {},
   "source": [
    "자, 어떤가요?  \n",
    "각각 int, str, float, bool 타입의 값이 한꺼번에 들어가네요!"
   ]
  },
  {
   "cell_type": "markdown",
   "metadata": {},
   "source": [
    "위에서 '컨테이너도 타입이다!' 라고 써져있는 문장을 보셨나요?  \n",
    "그러니까, list 안에 int가 들어간 것 처럼, list 안에 list를 포함할 수 있다는 이야기 입니다!"
   ]
  },
  {
   "cell_type": "code",
   "execution_count": 18,
   "metadata": {},
   "outputs": [
    {
     "name": "stdout",
     "output_type": "stream",
     "text": [
      "[1, [1, 2, 3]]\n"
     ]
    }
   ],
   "source": [
    "example = list() \n",
    "example.append(1)\n",
    "example.append([1,2,3])\n",
    "\n",
    "print(example)"
   ]
  },
  {
   "cell_type": "markdown",
   "metadata": {},
   "source": [
    "이렇게 말이죠! "
   ]
  },
  {
   "cell_type": "markdown",
   "metadata": {},
   "source": [
    "**자, 여기까지의 내용을 요약해보면, 'list는 순차적인 데이터를 집어넣을 수 있는 컨테이너다!'라고 요약할 수 있겠네요!** "
   ]
  },
  {
   "cell_type": "markdown",
   "metadata": {},
   "source": [
    "### 리스트 조회하기 ###"
   ]
  },
  {
   "cell_type": "markdown",
   "metadata": {},
   "source": [
    "바로 위에서는 리스트를 생성하고, 리스트 안에 값을 append하는 것을 배워봤습니다.  \n",
    "지금부터는, 값을 조회하는 방법을 배워보도록 하겠습니다 ! \n",
    "\n",
    "자 먼저, 예제로 사용할 list를 만들어줍니다."
   ]
  },
  {
   "cell_type": "code",
   "execution_count": 20,
   "metadata": {},
   "outputs": [],
   "source": [
    "example = [1,2,3,4,5]"
   ]
  },
  {
   "cell_type": "markdown",
   "metadata": {},
   "source": [
    "자, 이렇게 저장된 list에서 2라는 숫자를 조회하고 싶으면 어떻게 할까요? \n",
    "\n",
    "결론부터 말씀드리면.. 아래 명령어를 입력하시면 됩니다! "
   ]
  },
  {
   "cell_type": "code",
   "execution_count": 22,
   "metadata": {},
   "outputs": [
    {
     "name": "stdout",
     "output_type": "stream",
     "text": [
      "2\n"
     ]
    }
   ],
   "source": [
    "print(example[1])"
   ]
  },
  {
   "cell_type": "markdown",
   "metadata": {},
   "source": [
    "위 명령어는 'example이라는 list의 1번 인덱스에 접근' 하는 명령어입니다. \n",
    "그런데, 숫자 2는 2번째에 있는데, 왜 1번 인덱스에 접근할까요? \n",
    "\n",
    "이유는, **인덱스는 0부터 시작하기 때문입니다!!** \n",
    "\n",
    "그러니까, 리스트의 첫번째 항목에 접근하기 위해서는 아래와 같이 입력해줘야 한다는 의미입니다. "
   ]
  },
  {
   "cell_type": "code",
   "execution_count": 23,
   "metadata": {},
   "outputs": [
    {
     "name": "stdout",
     "output_type": "stream",
     "text": [
      "1\n"
     ]
    }
   ],
   "source": [
    "print(example[0])"
   ]
  },
  {
   "cell_type": "markdown",
   "metadata": {},
   "source": [
    "한번 더 실습해볼까요?  \n",
    "숫자 5에 접근하기 위해서는?  \n",
    "\n",
    "4번 index에 접근하면 되겠죠 !"
   ]
  },
  {
   "cell_type": "code",
   "execution_count": 24,
   "metadata": {},
   "outputs": [
    {
     "name": "stdout",
     "output_type": "stream",
     "text": [
      "5\n"
     ]
    }
   ],
   "source": [
    "print(example[4])"
   ]
  },
  {
   "cell_type": "markdown",
   "metadata": {},
   "source": [
    "그럼 혹시, 5번 인덱스에 접근하면 어떻게 될까요?? "
   ]
  },
  {
   "cell_type": "code",
   "execution_count": 26,
   "metadata": {},
   "outputs": [
    {
     "ename": "IndexError",
     "evalue": "list index out of range",
     "output_type": "error",
     "traceback": [
      "\u001b[1;31m---------------------------------------------------------------------------\u001b[0m",
      "\u001b[1;31mIndexError\u001b[0m                                Traceback (most recent call last)",
      "\u001b[1;32m<ipython-input-26-4bfce51c9446>\u001b[0m in \u001b[0;36m<module>\u001b[1;34m\u001b[0m\n\u001b[1;32m----> 1\u001b[1;33m \u001b[0mprint\u001b[0m\u001b[1;33m(\u001b[0m\u001b[0mexample\u001b[0m\u001b[1;33m[\u001b[0m\u001b[1;36m5\u001b[0m\u001b[1;33m]\u001b[0m\u001b[1;33m)\u001b[0m\u001b[1;33m\u001b[0m\u001b[1;33m\u001b[0m\u001b[0m\n\u001b[0m",
      "\u001b[1;31mIndexError\u001b[0m: list index out of range"
     ]
    }
   ],
   "source": [
    "print(example[5])"
   ]
  },
  {
   "cell_type": "markdown",
   "metadata": {},
   "source": [
    "list index out of range라는 에러 메시지가 출력됩니다. \n",
    "\n",
    "이는 list의 인덱스 범위가 0 ~ 4이고, 이를 벗어났기 때문에 발생한 에러메시지입니다. \n",
    "\n",
    "따라서, 기억해야되겠죠!\n",
    "\n",
    "***list의 인덱스는 0부터 시작한다!!!!***"
   ]
  },
  {
   "cell_type": "code",
   "execution_count": null,
   "metadata": {},
   "outputs": [],
   "source": []
  }
 ],
 "metadata": {
  "kernelspec": {
   "display_name": "Python 3",
   "language": "python",
   "name": "python3"
  },
  "language_info": {
   "codemirror_mode": {
    "name": "ipython",
    "version": 3
   },
   "file_extension": ".py",
   "mimetype": "text/x-python",
   "name": "python",
   "nbconvert_exporter": "python",
   "pygments_lexer": "ipython3",
   "version": "3.7.6"
  }
 },
 "nbformat": 4,
 "nbformat_minor": 4
}
