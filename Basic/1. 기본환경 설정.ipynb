{
 "cells": [
  {
   "cell_type": "markdown",
   "metadata": {},
   "source": [
    "## 환경설정"
   ]
  },
  {
   "cell_type": "markdown",
   "metadata": {},
   "source": [
    "파이썬 환경설정을 위해 아래 두가지를 다운로드 받아보겠습니다."
   ]
  },
  {
   "cell_type": "markdown",
   "metadata": {},
   "source": [
    "1. Python : 우리가 배워볼 프로그래밍 언어 중 하나입니다.\n",
    "\n",
    "다운로드 URL : https://www.python.org/downloads/release/python-376/  \n",
    "*최신버전은 20.02.09 기준으로 3.8.1 버전이지만, 이것저것 버그가 있어 3.7.6 버전을 다운로드 받을 것입니다.*\n",
    "\n",
    "2. Pycharm : 파이썬 IDE 입니다. \n",
    "\n",
    "다운로드 URL : https://www.jetbrains.com/ko-kr/pycharm/"
   ]
  },
  {
   "cell_type": "markdown",
   "metadata": {},
   "source": [
    "## 파이썬 설치"
   ]
  },
  {
   "cell_type": "markdown",
   "metadata": {},
   "source": [
    "**기본적으로 Next, OK를 누르면 되지만, \n",
    "Add Python 3.x to PATH를 체크해주시면 사용하실 때 편합니다.**"
   ]
  },
  {
   "cell_type": "markdown",
   "metadata": {},
   "source": [
    "## Pycharm 설치"
   ]
  },
  {
   "cell_type": "markdown",
   "metadata": {},
   "source": [
    "PyCharm 설치의 경우,  \n",
    "Next만 쭉 ~ 눌러주시면 설치가 이루어집니다."
   ]
  },
  {
   "cell_type": "markdown",
   "metadata": {},
   "source": [
    "## PyCharm 첫 프로젝트 생성하기"
   ]
  },
  {
   "cell_type": "markdown",
   "metadata": {},
   "source": [
    "이제, 설치했던 PyCharm을 실행해줍니다."
   ]
  },
  {
   "cell_type": "markdown",
   "metadata": {},
   "source": [
    "<img src=\"imgs/1-1.png\"></img>"
   ]
  },
  {
   "cell_type": "markdown",
   "metadata": {},
   "source": [
    "PyCharm을 실행하면, 위와 같은 창이 뜨는데,  \n",
    "**Do not import settings**를 선택한 후, [OK]버튼을 눌러줍니다."
   ]
  },
  {
   "cell_type": "markdown",
   "metadata": {},
   "source": [
    "<img src=\"imgs/1-2.png\"></img>"
   ]
  },
  {
   "cell_type": "markdown",
   "metadata": {},
   "source": [
    "로딩 이후, 테마를 설정하라는 페이지가 나오는데, 원하는 테마를 선택 후, Next: Featured Plugins를 클릭해줍니다."
   ]
  },
  {
   "cell_type": "markdown",
   "metadata": {},
   "source": [
    "<img src=\"imgs/1-3.png\"></img>"
   ]
  },
  {
   "cell_type": "markdown",
   "metadata": {},
   "source": [
    "플러그인등을 설치하는 페이지인데, 지금 단계에서는 그냥 스킵하겠습니다.\n",
    "Start using PyCharm 를 클릭해주세요."
   ]
  },
  {
   "cell_type": "markdown",
   "metadata": {},
   "source": [
    "<img src=\"imgs/1-5.png\"></img>"
   ]
  },
  {
   "cell_type": "markdown",
   "metadata": {},
   "source": [
    "프로젝트 이름을 설정하는 페이지 입니다.  \n",
    "아무 이름이나 설정하셔도 되며, 저는 Start_Project로 설정하겠습니다.  "
   ]
  },
  {
   "cell_type": "markdown",
   "metadata": {},
   "source": [
    "<img src=\"imgs/1-6.png\"></img>"
   ]
  },
  {
   "cell_type": "markdown",
   "metadata": {},
   "source": [
    "untitled -> Start_Project로 변경!"
   ]
  },
  {
   "cell_type": "markdown",
   "metadata": {},
   "source": [
    "<img src=\"imgs/1-7.png\"></img>"
   ]
  },
  {
   "cell_type": "markdown",
   "metadata": {},
   "source": [
    "<img src=\"imgs/1-8.png\"></img>"
   ]
  },
  {
   "cell_type": "markdown",
   "metadata": {},
   "source": [
    "아래와 같이 Tip of the Day라는 팝업이 뜨는데, 별로 필요 없습니다.  \n",
    "Show tips on startup 체크를 풀어주신 후, Close를 클릭합니다."
   ]
  },
  {
   "cell_type": "markdown",
   "metadata": {},
   "source": [
    "<img src=\"imgs/1-9.png\"></img>"
   ]
  },
  {
   "cell_type": "markdown",
   "metadata": {},
   "source": [
    "자 이제, 우리가 실습할 파이썬 파일을 하나 생성해 보겠습니다.  \n",
    "왼쪽 상단에 있는 Start_Project라는 라인을 클릭해주세요."
   ]
  },
  {
   "cell_type": "markdown",
   "metadata": {},
   "source": [
    "<img src=\"imgs/1-10.png\"></img>"
   ]
  },
  {
   "cell_type": "markdown",
   "metadata": {},
   "source": [
    "그리고, New -> Python File을 클릭해 주세요. "
   ]
  },
  {
   "cell_type": "markdown",
   "metadata": {},
   "source": [
    "<img src=\"imgs/1-11.png\"></img>"
   ]
  },
  {
   "cell_type": "markdown",
   "metadata": {},
   "source": [
    "그리고, 파이썬 파일의 이름을 정해줘야 하는데, 저는 main 이라고 하겠습니다.  \n",
    "아무 이름이나 하셔도 상관없습니다! "
   ]
  },
  {
   "cell_type": "markdown",
   "metadata": {},
   "source": [
    "<img src=\"imgs/1-12.png\"></img>"
   ]
  },
  {
   "cell_type": "markdown",
   "metadata": {},
   "source": [
    "main.py라는 파일이 생성된 후, 열립니다.  \n",
    "정상적으로 생성되었는지 확인해보도록 하겠습니다 ! \n",
    "\n",
    "아래와 같이 창에 입력해주신 후...\n",
    "\n",
    "print(\"Hello World\")"
   ]
  },
  {
   "cell_type": "markdown",
   "metadata": {},
   "source": [
    "<img src=\"imgs/1-13.png\"></img>"
   ]
  },
  {
   "cell_type": "markdown",
   "metadata": {},
   "source": [
    "Run -> Run을 클릭해준 후,"
   ]
  },
  {
   "cell_type": "markdown",
   "metadata": {},
   "source": [
    "<img src=\"imgs/1-14.png\"></img>"
   ]
  },
  {
   "cell_type": "markdown",
   "metadata": {},
   "source": [
    "main 파일을 선택해주세요!"
   ]
  },
  {
   "cell_type": "markdown",
   "metadata": {},
   "source": [
    "<img src=\"imgs/1-15.png\"></img>"
   ]
  },
  {
   "cell_type": "markdown",
   "metadata": {},
   "source": [
    "하단에, Hello World 라는 글자가 출력되면 성공!"
   ]
  },
  {
   "cell_type": "markdown",
   "metadata": {},
   "source": [
    "이로써, 파이썬을 배우기 위한 환경세팅이 완료되었습니다~  \n",
    "자! 이제 본격적으로 파이썬을 배워보도록 하겠습니다^^ "
   ]
  }
 ],
 "metadata": {
  "kernelspec": {
   "display_name": "Python 3",
   "language": "python",
   "name": "python3"
  },
  "language_info": {
   "codemirror_mode": {
    "name": "ipython",
    "version": 3
   },
   "file_extension": ".py",
   "mimetype": "text/x-python",
   "name": "python",
   "nbconvert_exporter": "python",
   "pygments_lexer": "ipython3",
   "version": "3.7.9"
  }
 },
 "nbformat": 4,
 "nbformat_minor": 4
}
