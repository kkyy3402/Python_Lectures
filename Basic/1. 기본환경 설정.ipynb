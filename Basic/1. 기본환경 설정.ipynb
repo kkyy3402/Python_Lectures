{
 "cells": [
  {
   "cell_type": "markdown",
   "metadata": {},
   "source": [
    "## 환경설정"
   ]
  },
  {
   "cell_type": "markdown",
   "metadata": {},
   "source": [
    "파이썬 환경설정을 위해 아래 두가지를 다운로드 받아보겠습니다."
   ]
  },
  {
   "cell_type": "markdown",
   "metadata": {},
   "source": [
    "1. Python : 우리가 배워볼 프로그래밍 언어 중 하나입니다.\n",
    "\n",
    "다운로드 URL : https://www.python.org/downloads/release/python-376/  \n",
    "*최신버전은 20.02.09 기준으로 3.8.1 버전이지만, 이것저것 버그가 있어 3.7.6 버전을 다운로드 받을 것입니다.*\n",
    "\n",
    "2. Pycharm : 파이썬 IDE 입니다. \n",
    "\n",
    "다운로드 URL : https://www.jetbrains.com/ko-kr/pycharm/"
   ]
  },
  {
   "cell_type": "markdown",
   "metadata": {},
   "source": [
    "## 파이썬 설치"
   ]
  },
  {
   "cell_type": "markdown",
   "metadata": {},
   "source": [
    "**기본적으로 Next, OK를 누르면 되지만, \n",
    "Add Python 3.x to PATH를 체크해주시면 사용하실 때 편합니다.**"
   ]
  },
  {
   "cell_type": "markdown",
   "metadata": {},
   "source": [
    "## Pycharm 설치"
   ]
  },
  {
   "cell_type": "markdown",
   "metadata": {},
   "source": [
    "Next만 쭉 ~ 눌러주시면 됩니다"
   ]
  },
  {
   "cell_type": "code",
   "execution_count": null,
   "metadata": {},
   "outputs": [],
   "source": []
  }
 ],
 "metadata": {
  "kernelspec": {
   "display_name": "Python 3",
   "language": "python",
   "name": "python3"
  },
  "language_info": {
   "codemirror_mode": {
    "name": "ipython",
    "version": 3
   },
   "file_extension": ".py",
   "mimetype": "text/x-python",
   "name": "python",
   "nbconvert_exporter": "python",
   "pygments_lexer": "ipython3",
   "version": "3.7.6"
  }
 },
 "nbformat": 4,
 "nbformat_minor": 4
}
