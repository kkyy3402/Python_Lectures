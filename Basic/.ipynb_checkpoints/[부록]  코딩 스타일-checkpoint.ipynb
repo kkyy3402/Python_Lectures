{
 "cells": [
  {
   "cell_type": "markdown",
   "metadata": {},
   "source": [
    "### 코딩 스타일\n",
    "\n",
    "여러 코딩 스타일이 존재합니다.  \n",
    "그 중 대표적인 2가지 코딩 스타일에 대해 배워보도록 하겠습니다."
   ]
  },
  {
   "cell_type": "markdown",
   "metadata": {},
   "source": [
    "### Camel Case\n",
    "\n",
    "Camel : '낙타'라는 뜻이죠?  \n",
    "낙타의 혹이 튀어나왔다 올라왔다하는 특징을 본따 만든 케이스입니다.  \n",
    "첫 단어를 제외한 새로운 단어가 시작될 때 대문자로 시작해주는 방식입니다. \n",
    "\n",
    "예를 들어, 아래와 같은 변수 혹은 함수명이 카멜케이스로 작성된 명칭입니다.\n",
    "\n",
    "myValueIsSoGood  \n",
    "myFunction  \n",
    "helloWorld "
   ]
  },
  {
   "cell_type": "markdown",
   "metadata": {},
   "source": [
    "### 스네이크 케이스\n",
    "Snake : '뱀'이라는 뜻이죠?  \n",
    "단어와 안어 사이에 뱀과 비슷한 언더바를 추가하여 이름을 짓는 방식을 의미합니다.\n",
    "\n",
    "예를 들어, 아래와 같은 방법으로 이름을 짓는 방식을 스네이크 케이스라고 합니다.\n",
    "\n",
    "i_like_python_language  \n",
    "my_favorite_function"
   ]
  },
  {
   "cell_type": "markdown",
   "metadata": {},
   "source": [
    "이 외에도 파스칼 케이스, 헝가리언 표기법 등의 표기법이 있으나,  \n",
    "위 두 케이스가 가장 빈도 높게 등장하는 코드 표기법입니다."
   ]
  }
 ],
 "metadata": {
  "kernelspec": {
   "display_name": "Python 3",
   "language": "python",
   "name": "python3"
  },
  "language_info": {
   "codemirror_mode": {
    "name": "ipython",
    "version": 3
   },
   "file_extension": ".py",
   "mimetype": "text/x-python",
   "name": "python",
   "nbconvert_exporter": "python",
   "pygments_lexer": "ipython3",
   "version": "3.7.9"
  }
 },
 "nbformat": 4,
 "nbformat_minor": 4
}
