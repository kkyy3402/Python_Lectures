{
 "cells": [
  {
   "cell_type": "markdown",
   "metadata": {},
   "source": [
    "### 연산자 개요\n",
    "\n",
    "우리가 숫자를 더할 때, \n",
    "5 + 3 이라고 표현합니다.\n",
    "\n",
    "이때, 위 수식에서 +을 \"연산자\"라고 부릅니다. \n",
    "\n",
    "파이썬에서 아래 코드를 실행하면 어떻게 될까요?"
   ]
  },
  {
   "cell_type": "code",
   "execution_count": 1,
   "metadata": {},
   "outputs": [
    {
     "data": {
      "text/plain": [
       "'Hello World'"
      ]
     },
     "execution_count": 1,
     "metadata": {},
     "output_type": "execute_result"
    }
   ],
   "source": [
    "\"Hello \" + \"World\""
   ]
  },
  {
   "cell_type": "markdown",
   "metadata": {},
   "source": [
    "### 연산자의 종류 \n",
    "\n",
    "연산자에는 산술 연산자, 복합연산자, 비교 연산자, 논리 연산자 등이 있습니다.  \n",
    "**\"이런 것이 있구나\"가 중요한 것이지, 이 단어 자체를 외우는 게 중요한 것이 아닙니다.**"
   ]
  },
  {
   "cell_type": "markdown",
   "metadata": {},
   "source": [
    "### 산술 연산자\n",
    "\n",
    "값을 산술할 때 사용되는 연산자입니다. \n",
    "산술 연산자에는 +, - , * , - 등이 있으며, \n",
    "자주 사용되는 산술 연산자는 아래 표와 같습니다.\n",
    "\n",
    "|연산자|의미|예제|\n",
    "|:------:|:---:|:---:|\n",
    "|+|덧셈 혹은 양수를 의미|1 - 2 = -1|\n",
    "|-|뺄셈 혹은 음수를 의미|1 + 2 = 3 혹은 \"1\" + \"2\" = \"12\"|\n",
    "|*|곱셈| 3 * 5 = 15|\n",
    "|/|나눗셈| 5/2 = 2|\n",
    "|%|나머지| 5/2 = 1 (몫은 2, 나머지는 1)|\n",
    "|**|지수승| 2**3 = 8(2의 3제곱은 8)|\n",
    "\n"
   ]
  },
  {
   "cell_type": "markdown",
   "metadata": {},
   "source": [
    "### 산술 연산자 실습해보기\n",
    "위 표에 나온 산술 연산자들을 사용하여 간단히 실습해보도록 하겠습니다."
   ]
  },
  {
   "cell_type": "code",
   "execution_count": 6,
   "metadata": {},
   "outputs": [
    {
     "data": {
      "text/plain": [
       "3"
      ]
     },
     "execution_count": 6,
     "metadata": {},
     "output_type": "execute_result"
    }
   ],
   "source": [
    "1+2"
   ]
  },
  {
   "cell_type": "code",
   "execution_count": 7,
   "metadata": {},
   "outputs": [
    {
     "data": {
      "text/plain": [
       "-2"
      ]
     },
     "execution_count": 7,
     "metadata": {},
     "output_type": "execute_result"
    }
   ],
   "source": [
    "3-5"
   ]
  },
  {
   "cell_type": "code",
   "execution_count": 8,
   "metadata": {},
   "outputs": [
    {
     "data": {
      "text/plain": [
       "1"
      ]
     },
     "execution_count": 8,
     "metadata": {},
     "output_type": "execute_result"
    }
   ],
   "source": [
    "5 % 2 "
   ]
  },
  {
   "cell_type": "markdown",
   "metadata": {},
   "source": [
    "### 관계 연산자\n",
    "관계 연산자는 두 값이 같은지 다른지,  \n",
    "혹은 크고 작음을 비교할 때 사용되는 연산자입니다.  \n",
    "결과는 True(참) 혹은 False(거짓)으로 나옵니다.\n",
    "\n",
    "|연산자|의미|예제|\n",
    "|:------:|:-----:|:-----:|\n",
    "|==|두 값이 같은지 여부| 1 == 1 # True|\n",
    "|!=|두 값이 다른지 여부| 1 == 2 # True|\n",
    "|>|왼쪽에 있는 값이 더 큰지 여부| 1 > 2 # False|\n",
    "|<|오른쪽에 있는 값이 더 큰지 여부| 1 < 2 # True|\n",
    "|>=|왼쪽에 있는 값이 크거나 같은지(이상) 여부| 2 >= 2 # True|\n",
    "|<=|오른쪽에 있는 값이 크거나 같은지(이상) 여부| 2 <= 2 # True|"
   ]
  },
  {
   "cell_type": "markdown",
   "metadata": {},
   "source": [
    "### 관계 연산자 실습   \n",
    "\n",
    "몇가지 코드를 통해 관계 연산자를 실습해보겠습니다."
   ]
  },
  {
   "cell_type": "code",
   "execution_count": 9,
   "metadata": {},
   "outputs": [
    {
     "data": {
      "text/plain": [
       "True"
      ]
     },
     "execution_count": 9,
     "metadata": {},
     "output_type": "execute_result"
    }
   ],
   "source": [
    "3 == 3"
   ]
  },
  {
   "cell_type": "code",
   "execution_count": 10,
   "metadata": {},
   "outputs": [
    {
     "data": {
      "text/plain": [
       "True"
      ]
     },
     "execution_count": 10,
     "metadata": {},
     "output_type": "execute_result"
    }
   ],
   "source": [
    "3 < 5"
   ]
  },
  {
   "cell_type": "code",
   "execution_count": 11,
   "metadata": {},
   "outputs": [
    {
     "data": {
      "text/plain": [
       "False"
      ]
     },
     "execution_count": 11,
     "metadata": {},
     "output_type": "execute_result"
    }
   ],
   "source": [
    "1 <= -1"
   ]
  },
  {
   "cell_type": "markdown",
   "metadata": {},
   "source": [
    "### 복합 연산자\n",
    "*다른 사람의 코드를 읽기 위해 필요한 내용이며,  \n",
    "입문 단계에서 필수적인 내용은 아닙니다.*\n",
    "\n",
    "a = 1  \n",
    "a = a + 2\n",
    "\n",
    "복합 연산자를 사용하여 위와 같은 코드를 간결하게 만들 수 있습니다. \n",
    "\n",
    "a = 1  \n",
    "a += 2\n",
    "\n",
    "자주 사용되는 복합 연산자는 다음과 같습니다.\n",
    "\n",
    "|연산자|예제|설명|\n",
    "|:------:|:-----:|:-----:|\n",
    "|+=|x += y| x = x + y와 동일 |\n",
    "|-=|x += y| x = x + y와 동일 |\n",
    "|*=|x += y| x = x + y와 동일 |"
   ]
  },
  {
   "cell_type": "markdown",
   "metadata": {},
   "source": [
    "### 복합 연산자 실습\n",
    "몇가지 예제를 통해 복합 연산자를 실습해보겠습니다."
   ]
  },
  {
   "cell_type": "code",
   "execution_count": 15,
   "metadata": {},
   "outputs": [
    {
     "name": "stdout",
     "output_type": "stream",
     "text": [
      "6\n"
     ]
    }
   ],
   "source": [
    "a = 3 \n",
    "a += 3\n",
    "print(a)"
   ]
  },
  {
   "cell_type": "markdown",
   "metadata": {},
   "source": [
    "여기까지 달려오시느라 고생많으셨습니다.  \n",
    "매우 지루하실 것이라 생각됩니다.  \n",
    "반복문과 조건문을 배우면서,  \n",
    "이 연산자들이 본격적으로 필수적으로 사용됩니다.  \n",
    "\n",
    "**절대 외우려고 하지마세요!  \n",
    "지금 단계에서는 '이런 것이 있구나' 하고 넘어가시면 됩니다.  \n",
    "우리의 목표는 완주입니다.  \n",
    "따라서, 여기서 힘 다 써버리시면 아니됩니다.**  \n",
    "\n",
    "여튼간에, 저도 작성하면서도 재미가 없는데,  \n",
    "여러분은 오죽하실까요..  \n",
    "자, 마지막 논리 연산자 시작합니다.\n",
    "\n",
    "### 논리 연산자\n",
    "논리 연산자는 여러 조건들을 섞서 사용하기 위해 사용되는 연산자입니다.  \n",
    "예를 들어, 성적이 A+이고, 성씨가 \"김\"인 사람을 뽑아야하는 프로그램을 만든다고 하면, 2가지 조건을 충족시키는 사람을 뽑아야 합니다. \n",
    "\n",
    "- 성적이 A+이**고** 성씨가 \"김\"인 사람  \n",
    "위와같이 2가지 조건을 모두 충족하는 사람 등을 찾거나 할 때 논리 연산자가 사용됩니다.  \n",
    "논리 연산자 역시 결과는 True, False 형태로 나옵니다. \n",
    "\n",
    "|연산자|설명|예제|\n",
    "|:------:|:-----:|:-----:|\n",
    "|and|두 조건을 모두 충족 시킬 때 True| True and True => True|\n",
    "|or|두 조건 중 하나 이상의 조건이 충족될 때 True|True or False => True |\n",
    "|not|bool 연산자를 반전시킵니다. | not(True) => False |"
   ]
  },
  {
   "cell_type": "markdown",
   "metadata": {},
   "source": [
    "### 논리 연산자 실습\n",
    "몇가지 코드를 통해 논리 연산자를 실습해보겠습니다."
   ]
  },
  {
   "cell_type": "code",
   "execution_count": 21,
   "metadata": {},
   "outputs": [
    {
     "data": {
      "text/plain": [
       "True"
      ]
     },
     "execution_count": 21,
     "metadata": {},
     "output_type": "execute_result"
    }
   ],
   "source": [
    "True and True"
   ]
  },
  {
   "cell_type": "code",
   "execution_count": 19,
   "metadata": {},
   "outputs": [
    {
     "data": {
      "text/plain": [
       "True"
      ]
     },
     "execution_count": 19,
     "metadata": {},
     "output_type": "execute_result"
    }
   ],
   "source": [
    "True or False"
   ]
  },
  {
   "cell_type": "code",
   "execution_count": 20,
   "metadata": {},
   "outputs": [
    {
     "data": {
      "text/plain": [
       "bool"
      ]
     },
     "execution_count": 20,
     "metadata": {},
     "output_type": "execute_result"
    }
   ],
   "source": [
    "type(True)"
   ]
  }
 ],
 "metadata": {
  "kernelspec": {
   "display_name": "Python 3",
   "language": "python",
   "name": "python3"
  },
  "language_info": {
   "codemirror_mode": {
    "name": "ipython",
    "version": 3
   },
   "file_extension": ".py",
   "mimetype": "text/x-python",
   "name": "python",
   "nbconvert_exporter": "python",
   "pygments_lexer": "ipython3",
   "version": "3.7.9"
  }
 },
 "nbformat": 4,
 "nbformat_minor": 4
}
