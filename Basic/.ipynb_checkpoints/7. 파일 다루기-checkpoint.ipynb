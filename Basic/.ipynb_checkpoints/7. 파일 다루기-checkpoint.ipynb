{
 "cells": [
  {
   "cell_type": "markdown",
   "metadata": {},
   "source": [
    "# 파일 다루기\n",
    "\n",
    "지금까지 우리가 다뤘던 내용들은, 변수에 값을 저장했습니다.  \n",
    "변수의 특징은 RAM에 데이터들을 임시로 기억한다는 뜻이죠.  \n",
    "그래서, 컴퓨터를 종료하면 변수의 데이터들이 사라집니다. \n",
    "\n",
    "그렇다면, 임시로 저장하지 않고, 영구적으로 어떤 내용을 저장하게 하려면 어떻게 해야할까요?  \n",
    "바로, 내용을 파일에 저장해야합니다.\n",
    "\n",
    "지금부터는 자신의 하드디스크 혹은 SSD에 파일을 저장하고 불러오는 것에 대해 배워보도록 하겠습니다."
   ]
  },
  {
   "cell_type": "markdown",
   "metadata": {},
   "source": [
    "### 텍스트 파일 만들기\n",
    "\n",
    "스트링을 한 파일에 저장하는 코드를 작성해보도록 하겠습니다."
   ]
  },
  {
   "cell_type": "code",
   "execution_count": 7,
   "metadata": {},
   "outputs": [],
   "source": [
    "# 텍스트 파일에 저장할 스트링\n",
    "save_text = \"i wanna save this string\" \n",
    "\n",
    "# open([파일 이름],[열기 모드])\n",
    "f = open(\"myText.txt\",\"w\")\n",
    "f.write(save_text)\n",
    "f.close()"
   ]
  },
  {
   "cell_type": "markdown",
   "metadata": {},
   "source": [
    "코드의 내용을 설명드리면,  \n",
    "1. myText라는 파일을 쓰기모드(\"w\")로 엽니다.\n",
    "2. myText파일에 save_text 변수에 담긴 내용을 씁니다. \n",
    "3. 파일을 닫습니다. \n",
    "\n",
    "open함수는 위 주석에 작성한 것처럼,  \n",
    "**첫번째 파라미터**는 파일의 이름을,  \n",
    "**두번째 파라미터**에는 어떤 모드로 열 것인가를 명시해줘야 합니다."
   ]
  },
  {
   "cell_type": "markdown",
   "metadata": {},
   "source": [
    "### 파일 열기모드의 종류 \n",
    "\n",
    "파일 열기모드에는 크게 3가지 종류의 모드가 있습니다. \n",
    "\n",
    "- r : 읽기 모드 -> 파일을 읽을 때 사용합니다. \n",
    "- w : 쓰기 모드 -> 파일을 쓸때 사용합니다. (이전의 내용이 삭제됨)\n",
    "- a : 추가 모드 -> 이전의 내용이 삭제되지 않고, 내용을 추가할 때 사용합니다.\n",
    "\n",
    "따라서, 위 예제에 나온 코드는, **이전의 내용을 모두 삭제**하고,  \n",
    "save_text 변수에 저장된 내용을 쓰는 코드가 되겠습니다. "
   ]
  },
  {
   "cell_type": "markdown",
   "metadata": {},
   "source": [
    "### 텍스트 파일 불러오기\n",
    "\n",
    "이번엔, 위에서 생성한 파일의 내용을 불러오는 작업을 해보도록 하겠습니다! "
   ]
  },
  {
   "cell_type": "code",
   "execution_count": 9,
   "metadata": {},
   "outputs": [
    {
     "name": "stdout",
     "output_type": "stream",
     "text": [
      "i wanna save this string\n"
     ]
    }
   ],
   "source": [
    "# 파일 열기모드가 r인 것을 주목해주세요!\n",
    "f = open(\"myText.txt\",\"r\")\n",
    "print(f.readline())\n",
    "f.close()"
   ]
  },
  {
   "cell_type": "markdown",
   "metadata": {},
   "source": [
    "위에서 저장했던 문장이 정상적으로 읽혀짐을 확인할 수 있습니다."
   ]
  },
  {
   "cell_type": "markdown",
   "metadata": {},
   "source": [
    "### 텍스트 추가 모드 실습\n",
    "\n",
    "파일 열기 모드 중 'a' 열기 모드에 대해서도 실습해보도록 하겠습니다.  \n",
    "'a' 열기 모드는 위에서 언급드렸듯, 파일 안의 내용을 지우지 않고  \n",
    "끝부분에 내용을 추가하는 모드로 설명을 드렸습니다.  \n",
    "\n",
    "바로 코드를 작성하여 테스트해보도록 하죠!"
   ]
  },
  {
   "cell_type": "code",
   "execution_count": 12,
   "metadata": {},
   "outputs": [
    {
     "name": "stdout",
     "output_type": "stream",
     "text": [
      "i wanna save this stringi'm appending some texti'm appending some texti'm appending some text\n"
     ]
    }
   ],
   "source": [
    "# a 모드로 내용을 추가한 뒤, \n",
    "f = open(\"myText.txt\",\"a\")\n",
    "f.write(\"i'm appending some text\")\n",
    "f.close()\n",
    "\n",
    "# 파일의 내용을 읽어보도록 하겠습니다! 이 때, 열기모드는 'r' 이겠죠! \n",
    "f = open(\"myText.txt\",\"r\")\n",
    "print(f.readline())\n",
    "f.close()"
   ]
  },
  {
   "cell_type": "markdown",
   "metadata": {},
   "source": [
    "### 바이너리 파일 만들기\n",
    "\n",
    "바이너리란 컴퓨터가 읽을 수 있는 이진수 형태의 데이터를 의미합니다.  \n",
    "쉽게 얘기하면, 사람이 읽을 수 없는 텍스트 이외의 데이터를 뜻합니다.  \n",
    "\n",
    "우리가 자주 보게 되는 exe 파일을 열어보면, 아래와 같이 사람이 알 수 없는 문자로 내용이 이루어져 있음을 볼 수 있습니다.  \n",
    "\n",
    "<img src=\"imgs/7-1.png\"></img>\n",
    "\n",
    "\n",
    "이 강좌의 목표는 초보자의 입장에서 전반적인 파이썬 기능을 익히는 것입니다.  \n",
    "초보자 입장에서 바이너리 파일 입출력은 당장 사용할 일이 없으므로,  \n",
    "이 강좌에서는 '바이너리' 라는 것이 있고, 그 파일 또한 파이썬을 통해 읽고 쓸 수 있구나! 하고 넘어가도록 하겠습니다. "
   ]
  },
  {
   "cell_type": "code",
   "execution_count": null,
   "metadata": {},
   "outputs": [],
   "source": []
  }
 ],
 "metadata": {
  "kernelspec": {
   "display_name": "Python 3",
   "language": "python",
   "name": "python3"
  },
  "language_info": {
   "codemirror_mode": {
    "name": "ipython",
    "version": 3
   },
   "file_extension": ".py",
   "mimetype": "text/x-python",
   "name": "python",
   "nbconvert_exporter": "python",
   "pygments_lexer": "ipython3",
   "version": "3.7.9"
  }
 },
 "nbformat": 4,
 "nbformat_minor": 2
}
